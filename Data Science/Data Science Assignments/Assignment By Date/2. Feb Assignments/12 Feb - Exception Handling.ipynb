{
 "cells": [
  {
   "cell_type": "markdown",
   "id": "95601f8b",
   "metadata": {},
   "source": [
    "## Question 1: What is an exception in python? Write the difference between Exceptions and syntax errors."
   ]
  },
  {
   "cell_type": "markdown",
   "id": "b8b08ecb",
   "metadata": {},
   "source": [
    "In Python, an exception is an event that occurs during the execution of a program that disrupts the normal flow of instructions. When an exception occurs, Python generates an object that represents the error, which can then be handled by the program.\n",
    "\n",
    "Exceptions in Python can be caused by a variety of factors, such as dividing by zero, referencing a non-existent variable, or opening a file that doesn't exist. Some common exceptions in Python include TypeError, ValueError, and IOError.\n",
    "\n",
    "Syntax errors, on the other hand, are errors that occur when the Python interpreter cannot understand the code that has been written. Syntax errors are usually caused by spelling mistakes, missing punctuation, or incorrect use of Python syntax. Unlike exceptions, which occur during the execution of the program, syntax errors prevent the program from running at all.\n",
    "\n",
    "The key difference between exceptions and syntax errors is that exceptions occur during the execution of a program, while syntax errors occur before the program is executed. Exceptions can be handled with try-except blocks, which allow the program to continue running despite the error, while syntax errors must be fixed before the program can be executed."
   ]
  },
  {
   "cell_type": "markdown",
   "id": "59636e69",
   "metadata": {},
   "source": [
    "## Question 2: What happens if exception is not handled? Explain with an example."
   ]
  },
  {
   "cell_type": "markdown",
   "id": "0aa260ed",
   "metadata": {},
   "source": [
    "If an exception is not handled in a Python program, it will cause the program to terminate abruptly and display an error message indicating the type of exception that occurred.\n",
    "\n",
    "For example, let's consider a Python program that attempts to open a file:"
   ]
  },
  {
   "cell_type": "code",
   "execution_count": 2,
   "id": "b3be3edc",
   "metadata": {},
   "outputs": [
    {
     "name": "stdout",
     "output_type": "stream",
     "text": [
      "this block handles error \n"
     ]
    }
   ],
   "source": [
    "try :\n",
    "    f=open(\"asd.txt\",\"r\")\n",
    "    \n",
    "except :\n",
    "    print(\"this block handles error \")"
   ]
  },
  {
   "cell_type": "markdown",
   "id": "de5f8103",
   "metadata": {},
   "source": [
    "In this program, the code inside the try block attempts to open a file named \"example.txt\" in read mode. If the file does not exist or cannot be opened for some reason, an exception will be raised.\n",
    "\n",
    "In the except block, we have a simple error handling mechanism that prints a generic error message if an exception occurs. This allows the program to continue running, even if the file cannot be opened.\n",
    "\n",
    "However, if we remove the except block from the program, the exception will not be handled, and the program will terminate abruptly with an error message:"
   ]
  },
  {
   "cell_type": "code",
   "execution_count": 3,
   "id": "a1422f1d",
   "metadata": {},
   "outputs": [
    {
     "ename": "FileNotFoundError",
     "evalue": "[Errno 2] No such file or directory: 'asd.txt'",
     "output_type": "error",
     "traceback": [
      "\u001b[1;31m---------------------------------------------------------------------------\u001b[0m",
      "\u001b[1;31mFileNotFoundError\u001b[0m                         Traceback (most recent call last)",
      "Cell \u001b[1;32mIn[3], line 1\u001b[0m\n\u001b[1;32m----> 1\u001b[0m f\u001b[38;5;241m=\u001b[39m\u001b[38;5;28mopen\u001b[39m(\u001b[38;5;124m\"\u001b[39m\u001b[38;5;124masd.txt\u001b[39m\u001b[38;5;124m\"\u001b[39m,\u001b[38;5;124m\"\u001b[39m\u001b[38;5;124mr\u001b[39m\u001b[38;5;124m\"\u001b[39m)\n",
      "File \u001b[1;32m~\\anaconda3\\Lib\\site-packages\\IPython\\core\\interactiveshell.py:286\u001b[0m, in \u001b[0;36m_modified_open\u001b[1;34m(file, *args, **kwargs)\u001b[0m\n\u001b[0;32m    279\u001b[0m \u001b[38;5;28;01mif\u001b[39;00m file \u001b[38;5;129;01min\u001b[39;00m {\u001b[38;5;241m0\u001b[39m, \u001b[38;5;241m1\u001b[39m, \u001b[38;5;241m2\u001b[39m}:\n\u001b[0;32m    280\u001b[0m     \u001b[38;5;28;01mraise\u001b[39;00m \u001b[38;5;167;01mValueError\u001b[39;00m(\n\u001b[0;32m    281\u001b[0m         \u001b[38;5;124mf\u001b[39m\u001b[38;5;124m\"\u001b[39m\u001b[38;5;124mIPython won\u001b[39m\u001b[38;5;124m'\u001b[39m\u001b[38;5;124mt let you open fd=\u001b[39m\u001b[38;5;132;01m{\u001b[39;00mfile\u001b[38;5;132;01m}\u001b[39;00m\u001b[38;5;124m by default \u001b[39m\u001b[38;5;124m\"\u001b[39m\n\u001b[0;32m    282\u001b[0m         \u001b[38;5;124m\"\u001b[39m\u001b[38;5;124mas it is likely to crash IPython. If you know what you are doing, \u001b[39m\u001b[38;5;124m\"\u001b[39m\n\u001b[0;32m    283\u001b[0m         \u001b[38;5;124m\"\u001b[39m\u001b[38;5;124myou can use builtins\u001b[39m\u001b[38;5;124m'\u001b[39m\u001b[38;5;124m open.\u001b[39m\u001b[38;5;124m\"\u001b[39m\n\u001b[0;32m    284\u001b[0m     )\n\u001b[1;32m--> 286\u001b[0m \u001b[38;5;28;01mreturn\u001b[39;00m io_open(file, \u001b[38;5;241m*\u001b[39margs, \u001b[38;5;241m*\u001b[39m\u001b[38;5;241m*\u001b[39mkwargs)\n",
      "\u001b[1;31mFileNotFoundError\u001b[0m: [Errno 2] No such file or directory: 'asd.txt'"
     ]
    }
   ],
   "source": [
    "f=open(\"asd.txt\",\"r\")"
   ]
  },
  {
   "cell_type": "markdown",
   "id": "221f826c",
   "metadata": {},
   "source": [
    "In this case, the FileNotFoundError exception occurred because the file \"example.txt\" does not exist in the directory where the program is running. Since the exception was not handled, the program terminated abruptly, and the error message was displayed.\n",
    "\n",
    "It is generally a good practice to handle exceptions in Python programs to prevent them from crashing and provide useful feedback to users in case something goes wrong."
   ]
  },
  {
   "cell_type": "markdown",
   "id": "5605f0ab",
   "metadata": {},
   "source": [
    "## Question 3: Which Python Statements are used to catch and handle exceptions? Explain with an example."
   ]
  },
  {
   "cell_type": "markdown",
   "id": "8a06d7cd",
   "metadata": {},
   "source": [
    "In Python, you can handle exceptions using the try and except statements. The try statement lets you test a block of code for errors, and the except statement lets you handle those errors gracefully.\n",
    "\n",
    "Here's an example:\n",
    "\n"
   ]
  },
  {
   "cell_type": "code",
   "execution_count": 5,
   "id": "961aed15",
   "metadata": {},
   "outputs": [
    {
     "name": "stdout",
     "output_type": "stream",
     "text": [
      "enter a number0\n",
      "you cannot divide by zero\n"
     ]
    }
   ],
   "source": [
    "try :\n",
    "    a=int(input(\"enter a number\"))\n",
    "    b=125/a\n",
    "    print(\"b=\",b)\n",
    "    \n",
    "except ZeroDivisionError :\n",
    "    print(\"you cannot divide by zero\")\n",
    "    \n",
    "except ValueError :\n",
    "    print(\"you must enter a valid number\")"
   ]
  },
  {
   "cell_type": "code",
   "execution_count": 6,
   "id": "02ed5768",
   "metadata": {},
   "outputs": [
    {
     "name": "stdout",
     "output_type": "stream",
     "text": [
      "enter a number@@5\n",
      "you must enter a valid number\n"
     ]
    }
   ],
   "source": [
    "try :\n",
    "    a=int(input(\"enter a number\"))\n",
    "    b=125/a\n",
    "    print(\"b=\",b)\n",
    "    \n",
    "except ZeroDivisionError :\n",
    "    print(\"you cannot divide by zero\")\n",
    "    \n",
    "except ValueError :\n",
    "    print(\"you must enter a valid number\")"
   ]
  },
  {
   "cell_type": "markdown",
   "id": "3aab463c",
   "metadata": {},
   "source": [
    "# Question 4 : Explain with an example:\n",
    "1. Try and else\n",
    "2. finally\n",
    "3. raise"
   ]
  },
  {
   "cell_type": "markdown",
   "id": "c01a1db7",
   "metadata": {},
   "source": [
    "1. try and else statement:\n",
    "The try and else statement is used to catch and handle exceptions in Python. The try block is used to execute the code that may raise an exception, and the else block is used to execute the code that should be executed if the try block doesn't raise any exception. Here is an example:\n",
    "\n"
   ]
  },
  {
   "cell_type": "code",
   "execution_count": 8,
   "id": "0f51343b",
   "metadata": {},
   "outputs": [
    {
     "name": "stdout",
     "output_type": "stream",
     "text": [
      "the file does not exist\n"
     ]
    }
   ],
   "source": [
    "try :\n",
    "    f=open(\"dfg.txt\",\"r\")\n",
    "    \n",
    "except :\n",
    "    print(\"the file does not exist\")\n",
    "    \n",
    "else :\n",
    "    print(\"the file exist \")"
   ]
  },
  {
   "cell_type": "code",
   "execution_count": 9,
   "id": "07f5b131",
   "metadata": {},
   "outputs": [
    {
     "name": "stdout",
     "output_type": "stream",
     "text": [
      "the file exist\n"
     ]
    }
   ],
   "source": [
    "try :\n",
    "    f=open(\"dfg.txt\",\"w\")\n",
    "    \n",
    "except :\n",
    "    print(\"the file does not exist\")\n",
    "    \n",
    "else :\n",
    "    print(\"the file exist\")"
   ]
  },
  {
   "cell_type": "markdown",
   "id": "3c8ca525",
   "metadata": {},
   "source": [
    "2. finally statement:\n",
    "The finally statement is used to define a block of code that should be executed regardless of whether an exception is raised or not. Here is an example:"
   ]
  },
  {
   "cell_type": "code",
   "execution_count": 10,
   "id": "93d11cd9",
   "metadata": {},
   "outputs": [],
   "source": [
    "f=open(\"aqw.txt\",\"w\")\n",
    "f.write(\"data science masters\")\n",
    "f.close()"
   ]
  },
  {
   "cell_type": "code",
   "execution_count": 11,
   "id": "7ac94665",
   "metadata": {},
   "outputs": [
    {
     "name": "stdout",
     "output_type": "stream",
     "text": [
      "data science masters\n",
      "this finally block is always executed irrespective of anything\n"
     ]
    }
   ],
   "source": [
    "try :\n",
    "    f=open(\"aqw.txt\",\"r\")\n",
    "    a=f.read()\n",
    "    \n",
    "except :\n",
    "    print(\"the file does not exist\")\n",
    "    \n",
    "else :\n",
    "    print(a)\n",
    "    \n",
    "finally :\n",
    "    print(\"this finally block is always executed irrespective of anything\")"
   ]
  },
  {
   "cell_type": "code",
   "execution_count": 12,
   "id": "af91519a",
   "metadata": {},
   "outputs": [
    {
     "name": "stdout",
     "output_type": "stream",
     "text": [
      "the file does not exist\n",
      "this finally block is always executed irrespective of anything\n"
     ]
    }
   ],
   "source": [
    "try :\n",
    "    f=open(\"aqz.txt\",\"r\")\n",
    "    a=f.read()\n",
    "    \n",
    "except :\n",
    "    print(\"the file does not exist\")\n",
    "    \n",
    "else :\n",
    "    print(a)\n",
    "    \n",
    "finally :\n",
    "    print(\"this finally block is always executed irrespective of anything\")"
   ]
  },
  {
   "cell_type": "markdown",
   "id": "2e8e3922",
   "metadata": {},
   "source": [
    "3. raise statement:\n",
    "    The raise statement is used to raise an exception in Python. You can use it to raise a predefined exception, or you can define your own custom exception. Here is an example:"
   ]
  },
  {
   "cell_type": "code",
   "execution_count": 13,
   "id": "6a0506ed",
   "metadata": {},
   "outputs": [
    {
     "name": "stdout",
     "output_type": "stream",
     "text": [
      "enter a number1\n",
      "enter a number again0\n",
      "the second number cannot be zero\n"
     ]
    }
   ],
   "source": [
    "def func(a,b):\n",
    "    if b==0 :\n",
    "        raise ValueError(\"the second number cannot be zero\")\n",
    "    else :\n",
    "        return a/b\n",
    "    \n",
    "a=int(input(\"enter a number\"))\n",
    "b=int(input(\"enter a number again\"))\n",
    "\n",
    "try :\n",
    "    x=func(a,b)\n",
    "    \n",
    "except :\n",
    "    print(\"the second number cannot be zero\")\n",
    "    \n",
    "else :\n",
    "    print(x)"
   ]
  },
  {
   "cell_type": "code",
   "execution_count": 14,
   "id": "6cd2d07d",
   "metadata": {},
   "outputs": [
    {
     "name": "stdout",
     "output_type": "stream",
     "text": [
      "enter a number1\n",
      "enter a number again1\n",
      "1.0\n"
     ]
    }
   ],
   "source": [
    "def func(a,b):\n",
    "    if b==0 :\n",
    "        raise ValueError(\"the second number cannot be zero\")\n",
    "    else :\n",
    "        return a/b\n",
    "    \n",
    "a=int(input(\"enter a number\"))\n",
    "b=int(input(\"enter a number again\"))\n",
    "\n",
    "try :\n",
    "    x=func(a,b)\n",
    "    \n",
    "except :\n",
    "    print(\"the second number cannot be zero\")\n",
    "    \n",
    "else :\n",
    "    print(x)"
   ]
  },
  {
   "cell_type": "markdown",
   "id": "b10c7379",
   "metadata": {},
   "source": [
    "## Question 5 : What are custom Exceptions in python ? Why do we need Custom Exceptions? Explain with an Example."
   ]
  },
  {
   "cell_type": "markdown",
   "id": "79f056fb",
   "metadata": {},
   "source": [
    "In Python, custom exceptions are user-defined exceptions that extend the base Exception class. They allow you to create your own exception types with customized error messages and behaviors.\n",
    "\n",
    "We need custom exceptions in Python to provide more specific and meaningful error messages to the user, especially in larger programs where errors may occur in multiple places. Custom exceptions also make it easier to handle specific errors in different ways.\n",
    "\n",
    "Here's an example of a custom exception in Python:\n",
    "\n"
   ]
  },
  {
   "cell_type": "code",
   "execution_count": 15,
   "id": "a86b64cf",
   "metadata": {},
   "outputs": [
    {
     "name": "stdout",
     "output_type": "stream",
     "text": [
      "enter a number9\n",
      "3.0\n",
      "doesn't matter code is correct or incorrect the finally block is always executed\n"
     ]
    }
   ],
   "source": [
    "class NegativeNumberError(Exception):\n",
    "    pass\n",
    "\n",
    "def func(a):\n",
    "    if a <0 :\n",
    "        raise NegativeNumberError(\"the number cannot be negative\")\n",
    "    return pow(a,0.5)\n",
    "\n",
    "a=int(input(\"enter a number\"))\n",
    "\n",
    "try :\n",
    "    func(a)\n",
    "    \n",
    "except NegativeNumberError as e :\n",
    "    print(e)\n",
    "    \n",
    "else :\n",
    "    print(func(a))\n",
    "    \n",
    "finally :\n",
    "    print(\"doesn't matter code is correct or incorrect the finally block is always executed\")"
   ]
  },
  {
   "cell_type": "code",
   "execution_count": 16,
   "id": "34f0133b",
   "metadata": {},
   "outputs": [
    {
     "name": "stdout",
     "output_type": "stream",
     "text": [
      "enter a number-32\n",
      "the number cannot be negative\n",
      "doesn't matter code is correct or incorrect the finally block is always executed\n"
     ]
    }
   ],
   "source": [
    "class NegativeNumberError(Exception):\n",
    "    pass\n",
    "\n",
    "def func(a):\n",
    "    if a <0 :\n",
    "        raise NegativeNumberError(\"the number cannot be negative\")\n",
    "    return pow(a,0.5)\n",
    "\n",
    "a=int(input(\"enter a number\"))\n",
    "\n",
    "try :\n",
    "    func(a)\n",
    "    \n",
    "except NegativeNumberError as e :\n",
    "    print(e)\n",
    "    \n",
    "else :\n",
    "    print(func(a))\n",
    "    \n",
    "finally :\n",
    "    print(\"doesn't matter code is correct or incorrect the finally block is always executed\")"
   ]
  },
  {
   "cell_type": "markdown",
   "id": "fd2313da",
   "metadata": {},
   "source": [
    "## Question 6 : Create a custom exception class . Use this class to handle exception"
   ]
  },
  {
   "cell_type": "code",
   "execution_count": 17,
   "id": "81d9ff95",
   "metadata": {},
   "outputs": [],
   "source": [
    "class validateage(Exception):\n",
    "    def __init__(self,msg):\n",
    "        self.msg=msg"
   ]
  },
  {
   "cell_type": "code",
   "execution_count": 18,
   "id": "2c88a5e8",
   "metadata": {},
   "outputs": [
    {
     "name": "stdout",
     "output_type": "stream",
     "text": [
      "enter your age 25\n",
      "age is valid\n",
      "assignment completed\n"
     ]
    }
   ],
   "source": [
    "def validate_age(age):\n",
    "    if age<0 :\n",
    "        raise validateage(\"age cannot be negative\")\n",
    "        \n",
    "    elif age>120 :\n",
    "        raise validateage(\"age is out of range \")\n",
    "        \n",
    "    else :\n",
    "        raise validateage(\"age is valid\")\n",
    "        \n",
    "try :\n",
    "    age=int(input('enter your age '))\n",
    "    validate_age(age)\n",
    "    \n",
    "except validateage as e :\n",
    "    print(e)\n",
    "    \n",
    "else :\n",
    "    print(validate_age(age))\n",
    "    \n",
    "finally :\n",
    "    print(\"assignment completed\")"
   ]
  },
  {
   "cell_type": "code",
   "execution_count": null,
   "id": "c5ec0d73",
   "metadata": {},
   "outputs": [],
   "source": []
  }
 ],
 "metadata": {
  "kernelspec": {
   "display_name": "Python 3 (ipykernel)",
   "language": "python",
   "name": "python3"
  },
  "language_info": {
   "codemirror_mode": {
    "name": "ipython",
    "version": 3
   },
   "file_extension": ".py",
   "mimetype": "text/x-python",
   "name": "python",
   "nbconvert_exporter": "python",
   "pygments_lexer": "ipython3",
   "version": "3.11.5"
  }
 },
 "nbformat": 4,
 "nbformat_minor": 5
}
