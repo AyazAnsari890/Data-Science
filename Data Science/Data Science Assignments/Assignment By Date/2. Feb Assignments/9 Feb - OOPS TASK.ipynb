{
 "cells": [
  {
   "cell_type": "markdown",
   "id": "99489a58",
   "metadata": {},
   "source": [
    "# Question 1: Create a vehicle class with an init method having instance variables as name_of_vehicle, max_speed and average_of_vehicle."
   ]
  },
  {
   "cell_type": "code",
   "execution_count": 1,
   "id": "b1e17902",
   "metadata": {},
   "outputs": [
    {
     "name": "stdout",
     "output_type": "stream",
     "text": [
      "audi\n",
      "333\n",
      "20\n"
     ]
    }
   ],
   "source": [
    "class vehicle :\n",
    "    def __init__(self,name_of_vehicle,max_speed,average_of_vehicle):\n",
    "        self.name_of_vehicle=name_of_vehicle\n",
    "        self.max_speed=max_speed\n",
    "        self.average_of_vehicle=average_of_vehicle\n",
    "        \n",
    "o=vehicle(\"audi\",333,20)\n",
    "print(o.name_of_vehicle)\n",
    "print(o.max_speed)\n",
    "print(o.average_of_vehicle)"
   ]
  },
  {
   "cell_type": "markdown",
   "id": "63dc2edd",
   "metadata": {},
   "source": [
    "# Question 2: Create a child class car from the vehicle class created in Que 1, which will inherit the vehicle class.Create a method named seating_capacity which takes capacity as an argument and returns the name of the vehicle and its seating capacity."
   ]
  },
  {
   "cell_type": "code",
   "execution_count": 3,
   "id": "ea205729",
   "metadata": {},
   "outputs": [
    {
     "data": {
      "text/plain": [
       "('porsche', 4)"
      ]
     },
     "execution_count": 3,
     "metadata": {},
     "output_type": "execute_result"
    }
   ],
   "source": [
    "class child(vehicle):\n",
    "    def seating_capacity(self,capacity):\n",
    "        self.capacity=capacity\n",
    "        return self.name_of_vehicle,self.capacity\n",
    "    \n",
    "o=child(\"porsche\",333,20)\n",
    "o.seating_capacity(4)"
   ]
  },
  {
   "cell_type": "markdown",
   "id": "5090cafe",
   "metadata": {},
   "source": [
    "# Question 3: What is multiple inheritance? Write a python code to demonstrate multiple inheritance."
   ]
  },
  {
   "cell_type": "markdown",
   "id": "14d98c24",
   "metadata": {},
   "source": [
    "Multiple inheritance is a feature of object-oriented programming where a subclass can inherit from more than one parent class. This allows the subclass to have all of the attributes and methods of both parent classes.\n",
    "\n",
    "Here's an example of a Python code that demonstrates multiple inheritance:"
   ]
  },
  {
   "cell_type": "code",
   "execution_count": 4,
   "id": "a6fa0a1c",
   "metadata": {},
   "outputs": [
    {
     "name": "stdout",
     "output_type": "stream",
     "text": [
      "30\n",
      "200\n",
      "0.5\n"
     ]
    }
   ],
   "source": [
    "class Calculation1:  \n",
    "    def Summation(self,a,b):  \n",
    "        return a+b;  \n",
    "    \n",
    "class Calculation2:  \n",
    "    def Multiplication(self,a,b):  \n",
    "        return a*b;  \n",
    "    \n",
    "class Derived(Calculation1,Calculation2):  \n",
    "    def Divide(self,a,b):  \n",
    "        return a/b;  \n",
    "    \n",
    "d = Derived()  \n",
    "\n",
    "print(d.Summation(10,20))  \n",
    "print(d.Multiplication(10,20))  \n",
    "print(d.Divide(10,20))  "
   ]
  },
  {
   "cell_type": "markdown",
   "id": "5211bebc",
   "metadata": {},
   "source": [
    "# Question 4 : What are getter and setter in python? Create a class and create a getter and a setter method in this class."
   ]
  },
  {
   "cell_type": "markdown",
   "id": "0134c761",
   "metadata": {},
   "source": [
    "1. **Getters** : These are the methods used in Object-Oriented Programming (OOPS) which helps to access the private attributes from a **class**.\n",
    "2. **Setters** : These are the methods used in OOPS feature which helps to set the value to private attributes in a **class**."
   ]
  },
  {
   "cell_type": "code",
   "execution_count": 5,
   "id": "7e823bb6",
   "metadata": {},
   "outputs": [
    {
     "name": "stdout",
     "output_type": "stream",
     "text": [
      "2023\n",
      "toyota \n",
      "\n",
      "2022\n",
      "ford\n"
     ]
    }
   ],
   "source": [
    "class car:\n",
    "    def __init__(self,year,make):\n",
    "        self.__year=year\n",
    "        self.__make=make\n",
    "        \n",
    "        \n",
    "    def get_year(self):\n",
    "        return self.__year\n",
    "    \n",
    "    def set_year(self,nyear):\n",
    "        self.__year=nyear\n",
    "        \n",
    "    def get_make(self):\n",
    "        return self.__make\n",
    "    \n",
    "    def set_make(self,nmake):\n",
    "        self.__make=nmake\n",
    "        \n",
    "        \n",
    "o=car(2023,\"toyota\")\n",
    "print(o.get_year())\n",
    "print(o.get_make(),\"\\n\")\n",
    "\n",
    "\n",
    "o.set_year(2022)\n",
    "o.set_make(\"ford\")\n",
    "       \n",
    "print(o.get_year())\n",
    "print(o.get_make())"
   ]
  },
  {
   "cell_type": "markdown",
   "id": "6a942b66",
   "metadata": {},
   "source": [
    "# Question 5 : What is method overriding in python? Write a python code to demonstrate method overriding"
   ]
  },
  {
   "cell_type": "markdown",
   "id": "eee04a9d",
   "metadata": {},
   "source": [
    "Method overriding is a mechanism in object-oriented programming that allows a subclass to provide its own implementation of a method that is already defined in its superclass. This means that when the method is called on the subclass object, the implementation in the subclass is executed instead of the implementation in the superclass."
   ]
  },
  {
   "cell_type": "code",
   "execution_count": 8,
   "id": "7997869d",
   "metadata": {},
   "outputs": [
    {
     "name": "stdout",
     "output_type": "stream",
     "text": [
      "Usually animals have 4 legs.\n",
      "Dog have 4 logs. \n"
     ]
    }
   ],
   "source": [
    "class Animal :\n",
    "    def legs(self):\n",
    "        print(\"Usually animals have 4 legs.\")\n",
    "        \n",
    "class Dog :\n",
    "    def legs(self):\n",
    "        print(\"Dog have 4 logs. \")\n",
    "        \n",
    "a=Animal()\n",
    "d=Dog()\n",
    "\n",
    "a.legs()\n",
    "d.legs()"
   ]
  },
  {
   "cell_type": "code",
   "execution_count": null,
   "id": "7c88edaa",
   "metadata": {},
   "outputs": [],
   "source": []
  }
 ],
 "metadata": {
  "kernelspec": {
   "display_name": "Python 3 (ipykernel)",
   "language": "python",
   "name": "python3"
  },
  "language_info": {
   "codemirror_mode": {
    "name": "ipython",
    "version": 3
   },
   "file_extension": ".py",
   "mimetype": "text/x-python",
   "name": "python",
   "nbconvert_exporter": "python",
   "pygments_lexer": "ipython3",
   "version": "3.11.5"
  }
 },
 "nbformat": 4,
 "nbformat_minor": 5
}
