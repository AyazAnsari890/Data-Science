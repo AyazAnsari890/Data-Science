{
 "cells": [
  {
   "cell_type": "markdown",
   "id": "c497d6f4",
   "metadata": {},
   "source": [
    "# Question 1 : Which function is used to open a file? What are the different modes of opening a file? Explain each mode of file opening."
   ]
  },
  {
   "cell_type": "markdown",
   "id": "7240e071",
   "metadata": {},
   "source": [
    "## Files in Python can be opened with a built-in open() function\n",
    "### Syntax : open(file_address, access_mode)\n",
    "\n",
    "\n",
    "The different modes of opening a file are:\n",
    "\n",
    "**\"r\" (read mode):** This mode is used to read data from an existing file. If the file does not exist, a FileNotFoundError is raised.\n",
    "\n",
    "**\"w\" (write mode):** This mode is used to write data to a file. If the file already exists, its contents are overwritten. If the file does not exist, a new file is created.\n",
    "\n",
    "**\"a\" (append mode):** This mode is used to append data to an existing file. If the file does not exist, a new file is created.\n",
    "\n",
    "**\"x\" (exclusive creation mode):** This mode is used to create a new file, but only if it does not already exist. If the file already exists, a FileExistsError is raised.\n",
    "\n",
    "**\"b\" (binary mode):** This mode is used to read or write binary data, such as images or other non-text files.\n",
    "\n",
    "**\"t\" (text mode):** This mode is used to read or write text data, which is the default mode if no mode is specified.\n",
    "\n",
    "**\"+\" (read and write mode):** This mode is used to allow both reading and writing to a file.\n",
    "\n",
    "\n",
    "1. In ‘r’ mode, the file opens in the read only mode. By default, if we don’t specify the mode argument, it will be treated as read or ‘r’ mode."
   ]
  },
  {
   "cell_type": "code",
   "execution_count": 7,
   "id": "9103eaab",
   "metadata": {},
   "outputs": [
    {
     "name": "stdout",
     "output_type": "stream",
     "text": [
      "Writing the assignments in notebook.\n",
      "\n"
     ]
    }
   ],
   "source": [
    "file=open(\"test.txt\",\"r\")\n",
    "a=file.read()\n",
    "print(a)"
   ]
  },
  {
   "cell_type": "markdown",
   "id": "c6b8ac7e",
   "metadata": {},
   "source": [
    "2. In the ‘w’ mode, the file opens in write mode. It removes existing content, if present, in the file. If the specified file doesn’t exist, it creates one with the specified name."
   ]
  },
  {
   "cell_type": "code",
   "execution_count": 6,
   "id": "096da22c",
   "metadata": {},
   "outputs": [],
   "source": [
    "file=open(\"test.txt\",\"w\")\n",
    "file.write(\"Writing the assignments in notebook.\\n\")\n",
    "file.close()"
   ]
  },
  {
   "cell_type": "markdown",
   "id": "12673df4",
   "metadata": {},
   "source": [
    "3. In the ‘a’ mode, the file opens in append mode. It adds content to an existing file (or append at the end of the file). If the specified file doesn’t exist, it creates one with the specified name."
   ]
  },
  {
   "cell_type": "code",
   "execution_count": 8,
   "id": "fbfc9f12",
   "metadata": {},
   "outputs": [
    {
     "name": "stdout",
     "output_type": "stream",
     "text": [
      "Writing the assignments in notebook.\n",
      "data science\n",
      "\n"
     ]
    }
   ],
   "source": [
    "file=open(\"test.txt\",\"a\")\n",
    "file.write(\"data science\\n\")\n",
    "file.close()\n",
    "file=open(\"test.txt\",\"r\")\n",
    "x=file.read()\n",
    "print(x)\n"
   ]
  },
  {
   "cell_type": "markdown",
   "id": "65be80a6",
   "metadata": {},
   "source": [
    "4.  In the ‘r+’ mode, the file opens in the read & write mode. It does not remove existing content, if present, in the file and does not create a file if not present in the directory. "
   ]
  },
  {
   "cell_type": "code",
   "execution_count": 9,
   "id": "6e8f92a2",
   "metadata": {},
   "outputs": [
    {
     "name": "stdout",
     "output_type": "stream",
     "text": [
      "pwskills\n",
      "e assignments in notebook.\n",
      "data science\n",
      "\n"
     ]
    }
   ],
   "source": [
    "file=open(\"test.txt\",\"r+\")\n",
    "file.write(\"pwskills\\n\")\n",
    "file.close\n",
    "\n",
    "file=open(\"test.txt\",\"r\")\n",
    "p=file.read()\n",
    "\n",
    "print(p)\n"
   ]
  },
  {
   "cell_type": "markdown",
   "id": "176d15e6",
   "metadata": {},
   "source": [
    "5. In the ‘w+’ mode, open the file in the read & write mode & remove existing content. If the file doesn’t exist, it creates a new one. It does not remove existing content & if a file doesn’t exist, it creates a new one"
   ]
  },
  {
   "cell_type": "code",
   "execution_count": 11,
   "id": "64a35f8f",
   "metadata": {},
   "outputs": [
    {
     "name": "stdout",
     "output_type": "stream",
     "text": [
      "OOPS Assignment\n",
      "\n"
     ]
    }
   ],
   "source": [
    "file=open(\"test.txt\",\"w+\")\n",
    "file.write(\"OOPS Assignment\\n\")\n",
    "file.close()\n",
    "file=open(\"test.txt\",\"r\")\n",
    "print(file.read())"
   ]
  },
  {
   "cell_type": "markdown",
   "id": "a7770833",
   "metadata": {},
   "source": [
    "6. a+: Opens a file for both appending and reading"
   ]
  },
  {
   "cell_type": "code",
   "execution_count": 12,
   "id": "db1800a3",
   "metadata": {},
   "outputs": [
    {
     "name": "stdout",
     "output_type": "stream",
     "text": [
      "OOPS Assignment\n",
      "skills\n",
      "\n"
     ]
    }
   ],
   "source": [
    "file=open(\"test.txt\",\"a+\")\n",
    "file.write(\"skills\\n\")\n",
    "file.close()\n",
    "file=open(\"test.txt\",\"a+\")\n",
    "file.seek(0)\n",
    "k=file.read()\n",
    "print(k)"
   ]
  },
  {
   "cell_type": "markdown",
   "id": "29308422",
   "metadata": {},
   "source": [
    "# In Python, the close() function is used to close an open file object. It's important to close a file after you have finished working with it because it frees up system resources that were being used by the open file."
   ]
  },
  {
   "cell_type": "markdown",
   "id": "fff436fe",
   "metadata": {},
   "source": [
    "When a file is opened, the operating system allocates system resources to the file handle, including memory, buffer space, and CPU time. If a file is not closed properly, these resources may not be freed up, which can lead to issues such as resource leaks or file corruption. Additionally, some operating systems limit the number of open files that a process can have at any given time, so leaving a file open unnecessarily can prevent other processes from accessing that file.\n",
    "\n",
    "Therefore, it's a good programming practice to close the file as soon as you're done with it. You can either call the close() method explicitly, or use the with statement, which automatically closes the file when the block is exited."
   ]
  },
  {
   "cell_type": "code",
   "execution_count": 13,
   "id": "f5e899b4",
   "metadata": {},
   "outputs": [
    {
     "name": "stdout",
     "output_type": "stream",
     "text": [
      "OOPS Assignment\n",
      "skills\n",
      "\n"
     ]
    }
   ],
   "source": [
    "# method 1 \n",
    "\n",
    "file=open(\"test.txt\",\"r\")\n",
    "a=file.read()\n",
    "print(a)\n",
    "file.close()"
   ]
  },
  {
   "cell_type": "code",
   "execution_count": 15,
   "id": "f579dafe",
   "metadata": {},
   "outputs": [
    {
     "name": "stdout",
     "output_type": "stream",
     "text": [
      "Great Learning\n",
      "\n"
     ]
    }
   ],
   "source": [
    "# method 2 \n",
    "\n",
    "with open(\"test.txt\",\"w+\") as f :\n",
    "    f.write(\"Great Learning\\n\")\n",
    "    \n",
    "    \n",
    "with open(\"test.txt\",\"r\") as f :\n",
    "    print(f.read())"
   ]
  },
  {
   "cell_type": "markdown",
   "id": "f83d7810",
   "metadata": {},
   "source": [
    "## Question 3: Write a python program to create a text file. Write ‘I want to become a Data Scientist’ in that file. Then close the file. Open this file and read the content of the file."
   ]
  },
  {
   "cell_type": "code",
   "execution_count": 16,
   "id": "a8c4163b",
   "metadata": {},
   "outputs": [
    {
     "name": "stdout",
     "output_type": "stream",
     "text": [
      "Just need to finish the asssignments.\n"
     ]
    }
   ],
   "source": [
    "# method 1 \n",
    "\n",
    "\n",
    "file =open(\"test1.txt\",\"w\")\n",
    "file.write(\"Just need to finish the asssignments.\")\n",
    "file.close()\n",
    "\n",
    "\n",
    "file=open(\"test1.txt\",\"r\")\n",
    "a=file.read()\n",
    "print(a)"
   ]
  },
  {
   "cell_type": "code",
   "execution_count": 17,
   "id": "a287193a",
   "metadata": {},
   "outputs": [
    {
     "name": "stdout",
     "output_type": "stream",
     "text": [
      "Great finishing my task.\n"
     ]
    }
   ],
   "source": [
    "# method 2\n",
    "\n",
    "with open(\"test2.txt\",\"w\") as f :\n",
    "    f.write(\"Great finishing my task.\")\n",
    "    \n",
    "with open(\"test2.txt\",\"r\") as f :\n",
    "    print(f.read())"
   ]
  },
  {
   "cell_type": "markdown",
   "id": "a7ed9e69",
   "metadata": {},
   "source": [
    "## Question 4 : Explain the following with python code: read(), readline() and readlines()."
   ]
  },
  {
   "cell_type": "code",
   "execution_count": 19,
   "id": "1baa6a26",
   "metadata": {},
   "outputs": [],
   "source": [
    "with open(\"test5.txt\",\"w+\") as f :\n",
    "    f.write(\"Data Science Masters course is highly curated and uniquely designed according to the latest industry standards. This program instills students the skills essential to knowledge \\ndiscovery efforts to identify standard, novel, and truly differentiated \\nsolutions and decision-making, including skills in managing,\\n querying, analyzing, visualizing, and extracting meaning from extremely large data sets. \\nThis trending program provides students with the statistical, mathematical \\nand computational skills needed to meet the large-scale data science challenges of today's professional\\n world. You will learn all the stack required to work in data science industry including cloud infrastructure and real-time industry projects.\")\n"
   ]
  },
  {
   "cell_type": "markdown",
   "id": "f9051b35",
   "metadata": {},
   "source": [
    "1. read(): The read() method reads the entire content of a file as a string. It takes an optional argument that specifies the number of characters to read. If no argument is given, it reads the entire file."
   ]
  },
  {
   "cell_type": "code",
   "execution_count": 20,
   "id": "ee1955f0",
   "metadata": {},
   "outputs": [
    {
     "name": "stdout",
     "output_type": "stream",
     "text": [
      "Data Science Masters course is highly curated and uniquely designed according to the latest industry standards. This program instills students the skills essential to knowledge \n",
      "discovery efforts to identify standard, novel, and truly differentiated \n",
      "solutions and decision-making, including skills in managing,\n",
      " querying, analyzing, visualizing, and extracting meaning from extremely large data sets. \n",
      "This trending program provides students with the statistical, mathematical \n",
      "and computational skills needed to meet the large-scale data science challenges of today's professional\n",
      " world. You will learn all the stack required to work in data science industry including cloud infrastructure and real-time industry projects.\n"
     ]
    }
   ],
   "source": [
    "with open(\"test5.txt\",\"r\") as f :\n",
    "    print(f.read())"
   ]
  },
  {
   "cell_type": "markdown",
   "id": "5bd917bd",
   "metadata": {},
   "source": [
    "2. readline(): The readline() method reads one line of a file at a time. Each time you call this method, it reads the next line of the file. If you call it again, it will read the next line, and so on until it reaches the end of the file.\n"
   ]
  },
  {
   "cell_type": "code",
   "execution_count": 21,
   "id": "7d340d92",
   "metadata": {},
   "outputs": [
    {
     "name": "stdout",
     "output_type": "stream",
     "text": [
      "Data Science Masters course is highly curated and uniquely designed according to the latest industry standards. This program instills students the skills essential to knowledge \n",
      "\n",
      "discovery efforts to identify standard, novel, and truly differentiated \n",
      "\n"
     ]
    }
   ],
   "source": [
    "with open(\"test5.txt\",\"r\") as f :\n",
    "    print(f.readline())\n",
    "    print(f.readline())"
   ]
  },
  {
   "cell_type": "markdown",
   "id": "c36a42e1",
   "metadata": {},
   "source": [
    "3. readlines(): The readlines() method reads the entire content of a file as a list of strings. Each string in the list represents a line of the file. If you specify the optional argument sizehint, it will read up to sizehint bytes from the file."
   ]
  },
  {
   "cell_type": "code",
   "execution_count": 22,
   "id": "f43ed5e1",
   "metadata": {},
   "outputs": [
    {
     "name": "stdout",
     "output_type": "stream",
     "text": [
      "['Data Science Masters course is highly curated and uniquely designed according to the latest industry standards. This program instills students the skills essential to knowledge \\n', 'discovery efforts to identify standard, novel, and truly differentiated \\n', 'solutions and decision-making, including skills in managing,\\n', ' querying, analyzing, visualizing, and extracting meaning from extremely large data sets. \\n', 'This trending program provides students with the statistical, mathematical \\n', \"and computational skills needed to meet the large-scale data science challenges of today's professional\\n\", ' world. You will learn all the stack required to work in data science industry including cloud infrastructure and real-time industry projects.']\n"
     ]
    }
   ],
   "source": [
    "with open(\"test5.txt\",\"r\") as f :\n",
    "    print(f.readlines())"
   ]
  },
  {
   "cell_type": "markdown",
   "id": "79785d1c",
   "metadata": {},
   "source": [
    "## Question 5 : Explain why with statement is used with open(). What is the advantage of using with statement and open() together"
   ]
  },
  {
   "cell_type": "markdown",
   "id": "4a54d38b",
   "metadata": {},
   "source": [
    "The with statement is used along with the open() function to ensure that a file is closed after its operations are done. The advantage of using the with statement with the open() function is that it provides a clean and easy-to-use syntax to open and close files automatically, without the need to manually close them.\n",
    "\n",
    "When you use the with statement, Python takes care of closing the file after the block of code inside the with statement completes, even if there is an exception or error during the execution of the block. This is useful because it ensures that the file is properly closed and any resources used by the file are released, preventing potential issues like data loss, corrupted files, or performance problems."
   ]
  },
  {
   "cell_type": "code",
   "execution_count": 23,
   "id": "4e697620",
   "metadata": {},
   "outputs": [
    {
     "name": "stdout",
     "output_type": "stream",
     "text": [
      "Data Science Masters course is highly curated and uniquely designed according to the latest industry standards. This program instills students the skills essential to knowledge \n",
      "discovery efforts to identify standard, novel, and truly differentiated \n",
      "solutions and decision-making, including skills in managing,\n",
      " querying, analyzing, visualizing, and extracting meaning from extremely large data sets. \n",
      "This trending program provides students with the statistical, mathematical \n",
      "and computational skills needed to meet the large-scale data science challenges of today's professional\n",
      " world. You will learn all the stack required to work in data science industry including cloud infrastructure and real-time industry projects.\n"
     ]
    }
   ],
   "source": [
    "# for example :-\n",
    "\n",
    "with open(\"test5.txt\",\"r\") as f :\n",
    "    var=f.read()\n",
    "    print(var)"
   ]
  },
  {
   "cell_type": "markdown",
   "id": "01033dc5",
   "metadata": {},
   "source": [
    "We use the with statement to open a file named test5.txt' in read mode, and we read the content of the file into a variable named content. After the block of code inside the with statement completes, Python automatically closes the file, freeing any resources used by the file.\n",
    "\n",
    "Using the with statement with the open() function provides a more readable and efficient way of working with files, as it reduces the chance of introducing bugs related to forgetting to close files, and it ensures that resources are properly managed."
   ]
  },
  {
   "cell_type": "markdown",
   "id": "22606956",
   "metadata": {},
   "source": [
    "## Question 6: Explain the write() and writelines() functions. Give a suitable example"
   ]
  },
  {
   "cell_type": "markdown",
   "id": "4c3cb7d7",
   "metadata": {},
   "source": [
    "1. The write() function will write the content in the file without adding any extra characters.<br>\n",
    " While writing data to a file, we must know that the write function does not add a newline character(\\n) to the end of the string.<br>\n",
    " The write() function returns None."
   ]
  },
  {
   "cell_type": "code",
   "execution_count": 24,
   "id": "9ce837fe",
   "metadata": {},
   "outputs": [
    {
     "name": "stdout",
     "output_type": "stream",
     "text": [
      "pwskills\n"
     ]
    }
   ],
   "source": [
    "with open(\"exam.txt\",\"w\") as f :\n",
    "    f.write(\"pwskills\")\n",
    "    \n",
    "with open(\"exam.txt\",\"r\") as f :\n",
    "    print(f.read())"
   ]
  },
  {
   "cell_type": "markdown",
   "id": "d1d3c5a6",
   "metadata": {},
   "source": [
    "2. writelines(): This function writes the content of a list to a file.<br>\n",
    "the list of strings that is passed to the writelines() function is written into the opened file.<br>\n",
    "Similar to the write() function, the writelines() function does not add a newline character(\\n) to the end of the string"
   ]
  },
  {
   "cell_type": "code",
   "execution_count": 25,
   "id": "8d5f713b",
   "metadata": {},
   "outputs": [
    {
     "name": "stdout",
     "output_type": "stream",
     "text": [
      "data science masters \n",
      "web dev \n",
      "java with dsa \n"
     ]
    }
   ],
   "source": [
    "with open(\"exam1.txt\",\"w\") as f :\n",
    "    f.writelines([\"data science masters \\n\",\"web dev \\n\",\"java with dsa \"])\n",
    "    \n",
    "with open(\"exam1.txt\",\"r\") as f :\n",
    "    print(f.read())"
   ]
  },
  {
   "cell_type": "code",
   "execution_count": null,
   "id": "03543383",
   "metadata": {},
   "outputs": [],
   "source": []
  }
 ],
 "metadata": {
  "kernelspec": {
   "display_name": "Python 3 (ipykernel)",
   "language": "python",
   "name": "python3"
  },
  "language_info": {
   "codemirror_mode": {
    "name": "ipython",
    "version": 3
   },
   "file_extension": ".py",
   "mimetype": "text/x-python",
   "name": "python",
   "nbconvert_exporter": "python",
   "pygments_lexer": "ipython3",
   "version": "3.11.5"
  }
 },
 "nbformat": 4,
 "nbformat_minor": 5
}
