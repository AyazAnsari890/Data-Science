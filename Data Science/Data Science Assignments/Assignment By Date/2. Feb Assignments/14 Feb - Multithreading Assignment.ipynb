{
 "cells": [
  {
   "cell_type": "markdown",
   "id": "7c7cd2b2",
   "metadata": {},
   "source": [
    "## Question 1: What is Multi Threading in Python? Why it is used? Name the module used to handle threads in python."
   ]
  },
  {
   "cell_type": "markdown",
   "id": "1f250c0a",
   "metadata": {},
   "source": [
    "Multithreading in Python is a programming technique that allows a program to perform multiple tasks simultaneously within a single process. It involves creating multiple threads of execution within a single program, with each thread running concurrently and independently.\n",
    "\n",
    "Multithreading is used in Python to improve the performance of programs by allowing them to execute multiple tasks simultaneously, thereby reducing the time taken to execute the program. This is particularly useful when working with time-consuming operations such as file I/O, network I/O, or CPU-bound computations.\n",
    "\n",
    "Python provides a built-in module called threading to handle threads. This module allows developers to create, start, pause, resume, and stop threads in Python programs. It also provides synchronization primitives such as locks, semaphores, and conditions that can be used to coordinate the activities of multiple threads.\n",
    "\n",
    "The threading module in Python uses a high-level approach to threading, making it easy to use and understand. It abstracts away many of the low-level details of thread management, making it easier to write thread-safe code in Python."
   ]
  },
  {
   "cell_type": "markdown",
   "id": "cbfea342",
   "metadata": {},
   "source": [
    "## Question 2: Why Threading Module is used ? Write the use of following functions\n",
    "1. activeCount()\n",
    "2. currentThread()\n",
    "3. enumerate"
   ]
  },
  {
   "cell_type": "markdown",
   "id": "f33acb86",
   "metadata": {},
   "source": [
    "The threading module in Python is used to create, manage, and work with threads in Python programs. It provides a high-level interface to manage threads and allows developers to create multi-threaded applications with ease. The module provides several functions that help developers manage threads effectively.\n",
    "\n",
    "Here's the use of the following functions:\n",
    "\n",
    "activeCount(): This function is used to return the number of currently active threads in the program. It can be useful in determining whether all the threads in the program have completed execution, or to keep track of the number of threads currently running.\n",
    "\n",
    "currentThread(): This function is used to return a reference to the currently executing thread. It can be used to access the properties of the thread, such as its name or thread ID, and to perform operations such as pausing or resuming the thread.\n",
    "\n",
    "enumerate(): This function is used to return a list of all currently active threads in the program. It can be useful in debugging multi-threaded programs, as it allows developers to inspect the properties of all threads and to determine which threads are currently running or blocked. The returned list contains Thread objects for each active thread, which can be used to perform operations such as pausing or resuming the thread."
   ]
  },
  {
   "cell_type": "markdown",
   "id": "83657760",
   "metadata": {},
   "source": [
    "## Question 3: Explain the following functions:\n",
    "1. run()\n",
    "2. start()\n",
    "3. join()\n",
    "4. isAlive()"
   ]
  },
  {
   "cell_type": "markdown",
   "id": "46d4d23f",
   "metadata": {},
   "source": [
    "The threading module in Python provides several functions that allow developers to manage and control threads in Python programs. Here's an explanation of the following functions:\n",
    "\n",
    "run(): This method is called when a thread is started using the start() method. It contains the code that will be executed by the thread when it starts running. The run() method should be overridden by a subclass of the Thread class to define the behavior of the thread.\n",
    "\n",
    "start(): This method is used to start a thread. When the start() method is called, a new thread of execution is created, and the run() method of the thread is called in that new thread. It is important to note that the start() method does not block the main thread; it returns immediately, allowing the main thread to continue executing while the new thread runs concurrently.\n",
    "\n",
    "join(): This method is used to wait for a thread to complete execution. When the join() method is called on a thread, the calling thread blocks until the target thread completes execution. This can be useful in situations where one thread needs to wait for another thread to finish its work before proceeding.\n",
    "\n",
    "isAlive(): This method is used to determine whether a thread is currently executing. When called on a thread object, it returns True if the thread is currently running or False otherwise. This can be useful in situations where one thread needs to check whether another thread is still executing before performing some operation.\n",
    "\n",
    "\n",
    "\n",
    "\n",
    "\n",
    "\n"
   ]
  },
  {
   "cell_type": "markdown",
   "id": "5f81d28c",
   "metadata": {},
   "source": [
    "## Question 4: Write a python program that creates two threads. Thread 1 must print list of squares and Thread 2 must print list of cubes."
   ]
  },
  {
   "cell_type": "code",
   "execution_count": 1,
   "id": "b11b50ac",
   "metadata": {},
   "outputs": [],
   "source": [
    "import threading "
   ]
  },
  {
   "cell_type": "code",
   "execution_count": 2,
   "id": "75f2af3b",
   "metadata": {},
   "outputs": [],
   "source": [
    "def function(x):\n",
    "    print(x ,end=\" \")"
   ]
  },
  {
   "cell_type": "code",
   "execution_count": 4,
   "id": "fb724c45",
   "metadata": {},
   "outputs": [],
   "source": [
    "thread1=[threading.Thread(target=function , args=(pow(z,2),)) for z in range(11)]\n",
    "thread2=[threading.Thread(target=function , args=(pow(z,3),)) for z in range(21)]"
   ]
  },
  {
   "cell_type": "code",
   "execution_count": 5,
   "id": "e6a00c99",
   "metadata": {},
   "outputs": [
    {
     "data": {
      "text/plain": [
       "[<Thread(Thread-37 (function), initial)>,\n",
       " <Thread(Thread-38 (function), initial)>,\n",
       " <Thread(Thread-39 (function), initial)>,\n",
       " <Thread(Thread-40 (function), initial)>,\n",
       " <Thread(Thread-41 (function), initial)>,\n",
       " <Thread(Thread-42 (function), initial)>,\n",
       " <Thread(Thread-43 (function), initial)>,\n",
       " <Thread(Thread-44 (function), initial)>,\n",
       " <Thread(Thread-45 (function), initial)>,\n",
       " <Thread(Thread-46 (function), initial)>,\n",
       " <Thread(Thread-47 (function), initial)>]"
      ]
     },
     "execution_count": 5,
     "metadata": {},
     "output_type": "execute_result"
    }
   ],
   "source": [
    "thread1"
   ]
  },
  {
   "cell_type": "code",
   "execution_count": 6,
   "id": "762455c4",
   "metadata": {},
   "outputs": [
    {
     "data": {
      "text/plain": [
       "[<Thread(Thread-48 (function), initial)>,\n",
       " <Thread(Thread-49 (function), initial)>,\n",
       " <Thread(Thread-50 (function), initial)>,\n",
       " <Thread(Thread-51 (function), initial)>,\n",
       " <Thread(Thread-52 (function), initial)>,\n",
       " <Thread(Thread-53 (function), initial)>,\n",
       " <Thread(Thread-54 (function), initial)>,\n",
       " <Thread(Thread-55 (function), initial)>,\n",
       " <Thread(Thread-56 (function), initial)>,\n",
       " <Thread(Thread-57 (function), initial)>,\n",
       " <Thread(Thread-58 (function), initial)>,\n",
       " <Thread(Thread-59 (function), initial)>,\n",
       " <Thread(Thread-60 (function), initial)>,\n",
       " <Thread(Thread-61 (function), initial)>,\n",
       " <Thread(Thread-62 (function), initial)>,\n",
       " <Thread(Thread-63 (function), initial)>,\n",
       " <Thread(Thread-64 (function), initial)>,\n",
       " <Thread(Thread-65 (function), initial)>,\n",
       " <Thread(Thread-66 (function), initial)>,\n",
       " <Thread(Thread-67 (function), initial)>,\n",
       " <Thread(Thread-68 (function), initial)>]"
      ]
     },
     "execution_count": 6,
     "metadata": {},
     "output_type": "execute_result"
    }
   ],
   "source": [
    "thread2"
   ]
  },
  {
   "cell_type": "code",
   "execution_count": 7,
   "id": "449c7262",
   "metadata": {},
   "outputs": [
    {
     "name": "stdout",
     "output_type": "stream",
     "text": [
      "0 1 4 9 16 25 36 49 64 81 100 "
     ]
    }
   ],
   "source": [
    "for k in thread1 :\n",
    "    k.start()"
   ]
  },
  {
   "cell_type": "code",
   "execution_count": 8,
   "id": "95328d45",
   "metadata": {},
   "outputs": [
    {
     "name": "stdout",
     "output_type": "stream",
     "text": [
      "0 1 8 27 64 125 216 343 512 729 1000 1331 1728 2197 2744 3375 4096 4913 5832 6859 8000 "
     ]
    }
   ],
   "source": [
    "for k in thread2 :\n",
    "    k.start()"
   ]
  },
  {
   "cell_type": "markdown",
   "id": "35755df6",
   "metadata": {},
   "source": [
    "## Question 5: State advantages and disadvantages of Multithreading."
   ]
  },
  {
   "cell_type": "markdown",
   "id": "1a19145a",
   "metadata": {},
   "source": [
    "Multithreading is a programming technique that allows multiple threads of execution to run concurrently within a single process. Here are some advantages and disadvantages of using multithreading:\n",
    "\n",
    "Advantages:\n",
    "\n",
    "Improved performance: Multithreading can improve the performance of a program by allowing it to take advantage of multiple CPUs or cores. By dividing a task into multiple threads, a program can execute multiple tasks simultaneously, reducing overall execution time.\n",
    "\n",
    "Resource sharing: Multithreading allows multiple threads to share the same resources, such as memory and I/O devices. This can reduce the amount of memory required by a program and allow it to more efficiently use system resources.\n",
    "\n",
    "Responsiveness: Multithreading can improve the responsiveness of a program by allowing it to continue executing while waiting for I/O operations or other time-consuming tasks.\n",
    "\n",
    "Simplified program design: Multithreading can simplify the design of a program by allowing it to be divided into smaller, more manageable parts. This can make it easier to write, test, and debug the program.\n",
    "\n",
    "Disadvantages:\n",
    "\n",
    "Increased complexity: Multithreaded programs are generally more complex than single-threaded programs, and can be more difficult to write, test, and debug.\n",
    "\n",
    "Synchronization issues: Multithreading requires careful synchronization of data and resources between threads to avoid issues such as race conditions, deadlocks, and other concurrency-related bugs.\n",
    "\n",
    "Overhead: Multithreading adds overhead to a program, both in terms of memory usage and processing time. The overhead of creating and managing threads can sometimes outweigh the benefits of multithreading.\n",
    "\n",
    "Debugging difficulties: Debugging multithreaded programs can be difficult due to the non-deterministic nature of thread execution. Bugs may only appear under certain thread scheduling conditions, making them difficult to reproduce and diagnose.\n",
    "\n",
    "\n",
    "\n",
    "\n",
    "\n"
   ]
  },
  {
   "cell_type": "markdown",
   "id": "0d133886",
   "metadata": {},
   "source": [
    "## Question 6: Explain deadlocks and race conditions."
   ]
  },
  {
   "cell_type": "markdown",
   "id": "146172e8",
   "metadata": {},
   "source": [
    "Deadlock and race condition are two common types of concurrency-related bugs that can occur in multithreaded programs.\n",
    "\n",
    "Deadlock: A deadlock occurs when two or more threads are blocked, waiting for each other to release resources they need to continue execution. This results in a situation where no thread can make progress and the program appears to hang. Deadlocks can occur when threads compete for exclusive access to resources, such as shared memory or a network socket.\n",
    "\n",
    "Race condition: A race condition occurs when the behavior of a program depends on the order or timing of thread execution. Specifically, it occurs when two or more threads access a shared resource in an unpredictable order, resulting in unexpected behavior. For example, if two threads both try to write to the same variable at the same time, the final value of the variable will depend on the order in which the writes occur.\n",
    "\n",
    "Both deadlocks and race conditions can be difficult to detect and diagnose, as they may only occur under certain conditions or with certain inputs. Debugging these types of bugs often requires careful analysis of thread scheduling and resource usage, as well as extensive testing and verification of the program's behavior. Proper use of synchronization primitives such as locks, semaphores, and barriers can help prevent these bugs from occurring in the first place."
   ]
  },
  {
   "cell_type": "code",
   "execution_count": null,
   "id": "19ff0e39",
   "metadata": {},
   "outputs": [],
   "source": []
  }
 ],
 "metadata": {
  "kernelspec": {
   "display_name": "Python 3 (ipykernel)",
   "language": "python",
   "name": "python3"
  },
  "language_info": {
   "codemirror_mode": {
    "name": "ipython",
    "version": 3
   },
   "file_extension": ".py",
   "mimetype": "text/x-python",
   "name": "python",
   "nbconvert_exporter": "python",
   "pygments_lexer": "ipython3",
   "version": "3.11.5"
  }
 },
 "nbformat": 4,
 "nbformat_minor": 5
}
