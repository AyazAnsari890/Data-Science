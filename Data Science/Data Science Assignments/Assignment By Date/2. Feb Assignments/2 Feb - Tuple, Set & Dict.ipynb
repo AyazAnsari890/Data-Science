{
 "cells": [
  {
   "cell_type": "markdown",
   "id": "9b4d32c3",
   "metadata": {},
   "source": [
    "# Q1. What are the characteristics of the tuples? Is tuple immutable?"
   ]
  },
  {
   "cell_type": "markdown",
   "id": "b97a2d68",
   "metadata": {},
   "source": [
    "Tuples are used to store multiple items in a single variable.\n",
    "\n",
    "Synatax: mytuple = (\"apple\", \"banana\", \"cherry\")\n",
    "\n",
    "        tuple1 = (\"abc\", 34, True, 40, \"male\")\n",
    "\n",
    "\n",
    "The characteristics of a tuple are:\n",
    "\n",
    "1. **Immutable:** Once a tuple is created, its elements cannot be changed or modified.\n",
    "2. **Ordered:** The elements in a tuple have a defined order, and this order is maintained.\n",
    "3. **Heterogeneous:** Tuples can store elements of different data types.\n",
    "4. **Indexed:** Each element in a tuple can be retrieved by using its index number.\n",
    "\n",
    "In summary, tuples are ordered, heterogeneous, and immutable collections of elements that can be indexed."
   ]
  },
  {
   "cell_type": "markdown",
   "id": "561ba29f",
   "metadata": {},
   "source": [
    "# Q2. What are the two tuple methods in python? Give an example of each method. Give a reason why tuples have only two in-built methods as compared to Lists."
   ]
  },
  {
   "cell_type": "markdown",
   "id": "70d35b3c",
   "metadata": {},
   "source": [
    "In Python, tuples have two built-in methods:\n",
    "Method\tDescription\n",
    "1. **count()** ->\tReturns the number of times a specified value occurs in a tuple\n",
    "2. **index()**\t-> Searches the tuple for a specified value and returns the position of where it was found"
   ]
  },
  {
   "cell_type": "code",
   "execution_count": 2,
   "id": "ea71af72",
   "metadata": {},
   "outputs": [
    {
     "data": {
      "text/plain": [
       "2"
      ]
     },
     "execution_count": 2,
     "metadata": {},
     "output_type": "execute_result"
    }
   ],
   "source": [
    "# count() : returns the number of occurrences of a given element in the tuple.\n",
    "\n",
    "a=(1,2,3,4,5,6,7,8,10,11,5,6)\n",
    "a.count(6)"
   ]
  },
  {
   "cell_type": "code",
   "execution_count": 5,
   "id": "a877dcb6",
   "metadata": {},
   "outputs": [
    {
     "data": {
      "text/plain": [
       "5"
      ]
     },
     "execution_count": 5,
     "metadata": {},
     "output_type": "execute_result"
    }
   ],
   "source": [
    "# index() : returns the index of the first occurrence of a given element in the tuple.\n",
    "\n",
    "b=(\"Hi\",\"finishing the assignment of\",\"python\",34, \"That's for the day.\",32,87,36,32,56)\n",
    "b.index(32)\n"
   ]
  },
  {
   "cell_type": "markdown",
   "id": "76c97b1a",
   "metadata": {},
   "source": [
    "Tuples have only two in-built methods because they are meant to be lightweight, immutable collections of elements. The idea is to keep them simple, fast, and efficient, rather than providing a lot of functionalities like lists. \n",
    "\n",
    "The two methods provided are the most commonly used ones for tuples. In other cases, it is recommended to use other data structures like lists or dictionaries."
   ]
  },
  {
   "cell_type": "markdown",
   "id": "02fd977b",
   "metadata": {},
   "source": [
    "# Q3. Which collection datatypes in python do not allow duplicate items? Write a code using a set to remove duplicates from the given list."
   ]
  },
  {
   "cell_type": "markdown",
   "id": "bda9a43b",
   "metadata": {},
   "source": [
    "List = [1, 1, 1, 2, 1, 3, 1, 4, 2, 1, 2, 2, 2, 3, 2, 4, 3, 1, 3, 2, 3, 3, 3, 4, 4, 1, 4, 2, 4, 3, 4, 4]"
   ]
  },
  {
   "cell_type": "markdown",
   "id": "3de9ce42",
   "metadata": {},
   "source": [
    "In Python, the set datatype does not allow duplicate items. To remove duplicates from a list, one can convert the list to a set, then back to a list:"
   ]
  },
  {
   "cell_type": "code",
   "execution_count": 7,
   "id": "410636e7",
   "metadata": {},
   "outputs": [
    {
     "data": {
      "text/plain": [
       "[1, 2, 3, 4, 5, 6, 7, 8, 9, 10, 11, 12]"
      ]
     },
     "execution_count": 7,
     "metadata": {},
     "output_type": "execute_result"
    }
   ],
   "source": [
    "List = [1, 2, 3, 1, 2, 1, 4, 4, 6, 8, 6, 5, 7, 9, 1, 3, 5, 7, 10, 11, 3, 12]\n",
    "a=list(set(List))\n",
    "a"
   ]
  },
  {
   "cell_type": "markdown",
   "id": "8d425229",
   "metadata": {},
   "source": [
    "# Question 4 - Explain the difference between the union() and update() methods for a set. Give an example of each method."
   ]
  },
  {
   "cell_type": "markdown",
   "id": "17a564dc",
   "metadata": {},
   "source": [
    "Both union() and update() are set methods in Python, but they differ in their behavior:"
   ]
  },
  {
   "cell_type": "code",
   "execution_count": 8,
   "id": "60056016",
   "metadata": {},
   "outputs": [
    {
     "name": "stdout",
     "output_type": "stream",
     "text": [
      "{'apple', 34, 23, 'gadgets', 'Books', 'vinegar'}\n",
      "{'apple', 'vinegar', 23}\n"
     ]
    }
   ],
   "source": [
    "# union(): This method returns a new set that contains all the unique elements from the original set as well \n",
    "# as the specified set or iterable. The original sets are not modified.\n",
    "# For Example: \n",
    "\n",
    "set_a={\"apple\",\"vinegar\",23}\n",
    "set_b={\"Books\",\"gadgets\",34}\n",
    "set_c=set_a.union(set_b)\n",
    "print(set_c)\n",
    "print(set_a)"
   ]
  },
  {
   "cell_type": "code",
   "execution_count": 9,
   "id": "526e0dad",
   "metadata": {},
   "outputs": [
    {
     "name": "stdout",
     "output_type": "stream",
     "text": [
      "None\n",
      "{'apple', 34, 23, 'gadgets', 'Books', 'vinegar'}\n"
     ]
    }
   ],
   "source": [
    "# update(): This method modifies the original set by adding all the unique elements from the specified set \n",
    "# or iterable to it.\n",
    "# For Example:\n",
    "\n",
    "set_a={\"apple\",\"vinegar\",23}\n",
    "set_b={\"Books\",\"gadgets\",34}\n",
    "set_c=set_a.update(set_b)\n",
    "print(set_c)\n",
    "print(set_a)"
   ]
  },
  {
   "cell_type": "markdown",
   "id": "df91b3bc",
   "metadata": {},
   "source": [
    "###  In above example, the update() method is used to add all the unique elements from set_b to set_a, modifying set_a in place.\n",
    "\n",
    "The key difference between union() and update() is that union() returns a new set without modifying the original sets,\n",
    "whereas update() modifies the original set by adding new elements to it."
   ]
  },
  {
   "cell_type": "markdown",
   "id": "b368e735",
   "metadata": {},
   "source": [
    "# Question 5 : What is a dictionary? Give an example. Also, state whether a dictionary is ordered or unordered"
   ]
  },
  {
   "cell_type": "markdown",
   "id": "7a3018e5",
   "metadata": {},
   "source": [
    "In programming, a dictionary is a collection of key-value pairs, where each key is associated with a corresponding value ,and the keys are unique within the dictionary.\n",
    "                                                       For example :-"
   ]
  },
  {
   "cell_type": "code",
   "execution_count": 10,
   "id": "30c6d9c0",
   "metadata": {},
   "outputs": [
    {
     "data": {
      "text/plain": [
       "{'Player_Name': 'Virat Kohli',\n",
       " 'Sport': 'Cricket',\n",
       " 'Role': 'Batsman',\n",
       " 'Nationality': 'India',\n",
       " 'Format': 'Test, ODI, T20'}"
      ]
     },
     "execution_count": 10,
     "metadata": {},
     "output_type": "execute_result"
    }
   ],
   "source": [
    "# In Python, dictionaries are unordered, which means that the order in which the key-value pairs are added to \n",
    "# the dictionary may not be preserved when you iterate over them.The order of the elements can be controlled by \n",
    "# sorting the keys, but by default, the order is not guaranteed.\n",
    "\n",
    "\n",
    "dict = {\"Player_Name\":\"Virat Kohli\", \"Sport\":\"Cricket\" , \"Role\":\"Batsman\" ,\"Nationality\":\"India\" ,\n",
    "   \"Format\":\"Test, ODI, T20\" }\n",
    "dict\n",
    "\n"
   ]
  },
  {
   "cell_type": "markdown",
   "id": "6bda38bf",
   "metadata": {},
   "source": [
    "# Q6. Can we create a nested dictionary? If so, please give an example by creating a simple one-level nested dictionary."
   ]
  },
  {
   "cell_type": "markdown",
   "id": "7a126d73",
   "metadata": {},
   "source": [
    "Yes, we can create a nested dictionary in Python. A nested dictionary is a dictionary inside a dictionary, where the value associated with each key is itself another dictionary. Here is an example of a simple one-level nested dictionary :-"
   ]
  },
  {
   "cell_type": "code",
   "execution_count": 11,
   "id": "ec319b95",
   "metadata": {},
   "outputs": [
    {
     "data": {
      "text/plain": [
       "{'child1': {'name': 'Emil', 'year': 2004},\n",
       " 'child2': {'name': 'Tobias', 'year': 2007},\n",
       " 'child3': {'name': 'Linus', 'year': 2011}}"
      ]
     },
     "execution_count": 11,
     "metadata": {},
     "output_type": "execute_result"
    }
   ],
   "source": [
    "myfamily = {\n",
    "  \"child1\" : {\n",
    "    \"name\" : \"Emil\",\n",
    "    \"year\" : 2004\n",
    "  },\n",
    "  \"child2\" : {\n",
    "    \"name\" : \"Tobias\",\n",
    "    \"year\" : 2007\n",
    "  },\n",
    "  \"child3\" : {\n",
    "    \"name\" : \"Linus\",\n",
    "    \"year\" : 2011\n",
    "  }\n",
    "}\n",
    "\n",
    "myfamily"
   ]
  },
  {
   "cell_type": "markdown",
   "id": "0d39bdb2",
   "metadata": {},
   "source": [
    "## Question 7 : Using setdefault() method, create key named topics in the given dictionary and also add the value of the key as this list ['Python', 'Machine Learning’, 'Deep Learning']\n",
    "\n",
    "### dict1 = {'language' : 'Python', 'course': 'Data Science Masters'}\n"
   ]
  },
  {
   "cell_type": "code",
   "execution_count": 12,
   "id": "af3da299",
   "metadata": {},
   "outputs": [
    {
     "data": {
      "text/plain": [
       "{'language': 'Python',\n",
       " 'course': 'Data Science Masters',\n",
       " 'topics': ['Python', 'Machine Learning', 'Deep Learning']}"
      ]
     },
     "execution_count": 12,
     "metadata": {},
     "output_type": "execute_result"
    }
   ],
   "source": [
    "dict1 = {'language' : 'Python', 'course': 'Data Science Masters'}\n",
    "dict1.setdefault('topics',['Python','Machine Learning','Deep Learning'])\n",
    "dict1"
   ]
  },
  {
   "cell_type": "markdown",
   "id": "55343af5",
   "metadata": {},
   "source": [
    "# Question 8 : What are the three view objects in dictionaries? Use the three in-built methods in python to display these three view objects for the given dictionary.\n",
    "\n",
    "### dict1 = {'Sport': 'Cricket' , 'Teams': ['India', 'Australia', 'England', 'South Africa', 'Sri Lanka', 'New Zealand']}\n"
   ]
  },
  {
   "cell_type": "code",
   "execution_count": 14,
   "id": "44b158cf",
   "metadata": {},
   "outputs": [
    {
     "name": "stdout",
     "output_type": "stream",
     "text": [
      "dict_keys(['Sport', 'Teams'])\n",
      "dict_values(['Cricket', ['India', 'Australia', 'England', 'South Africa', 'Sri Lanka', 'New Zealand']])\n",
      "dict_items([('Sport', 'Cricket'), ('Teams', ['India', 'Australia', 'England', 'South Africa', 'Sri Lanka', 'New Zealand'])])\n"
     ]
    }
   ],
   "source": [
    "# In Python, dictionaries have three view objects:\n",
    "# keys(): returns a view object that displays a list of all the keys in the dictionary.\n",
    "# values(): returns a view object that displays a list of all the values in the dictionary.\n",
    "# items(): returns a view object that displays a list of all the items (keys and values) in the dictionary as a tuple.\n",
    "\n",
    "dict1 = {'Sport': 'Cricket' , 'Teams': ['India', 'Australia', 'England', 'South Africa','Sri Lanka', 'New Zealand']}\n",
    "print(dict1.keys())\n",
    "print(dict1.values())\n",
    "print(dict1.items())"
   ]
  },
  {
   "cell_type": "code",
   "execution_count": null,
   "id": "fc888393",
   "metadata": {},
   "outputs": [],
   "source": []
  }
 ],
 "metadata": {
  "kernelspec": {
   "display_name": "Python 3 (ipykernel)",
   "language": "python",
   "name": "python3"
  },
  "language_info": {
   "codemirror_mode": {
    "name": "ipython",
    "version": 3
   },
   "file_extension": ".py",
   "mimetype": "text/x-python",
   "name": "python",
   "nbconvert_exporter": "python",
   "pygments_lexer": "ipython3",
   "version": "3.11.5"
  }
 },
 "nbformat": 4,
 "nbformat_minor": 5
}
