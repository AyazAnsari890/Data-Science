{
 "cells": [
  {
   "cell_type": "code",
   "execution_count": 1,
   "metadata": {},
   "outputs": [
    {
     "name": "stderr",
     "output_type": "stream",
     "text": [
      "C:\\Users\\Utkarsh Gaikwad\\AppData\\Local\\Temp\\ipykernel_23712\\863739865.py:4: DeprecationWarning: executable_path has been deprecated, please pass in a Service object\n",
      "  driver = webdriver.Chrome(executable_path=\".\\Assignment 21 - 22 February 2023\\chromedriver.exe\")\n"
     ]
    }
   ],
   "source": [
    "from selenium import webdriver\n",
    "from selenium.webdriver.common.by import By\n",
    "\n",
    "driver = webdriver.Chrome(executable_path=\".\\Assignment 21 - 22 February 2023\\chromedriver.exe\")\n",
    "driver.get(\"https://www.youtube.com/@PW-Foundation/videos\")"
   ]
  },
  {
   "cell_type": "code",
   "execution_count": 2,
   "metadata": {},
   "outputs": [],
   "source": [
    "link_finder = driver.find_element(By.XPATH,\"//a[@id='thumbnail']\")"
   ]
  },
  {
   "cell_type": "code",
   "execution_count": 3,
   "metadata": {},
   "outputs": [],
   "source": [
    "thumbnail = driver.find_elements(By.TAG_NAME, \"img\")\n",
    "thumbnail[8].click()"
   ]
  },
  {
   "cell_type": "code",
   "execution_count": 4,
   "metadata": {},
   "outputs": [
    {
     "data": {
      "text/plain": [
       "'https://www.youtube.com/watch?v=AM2Dt7cNebw'"
      ]
     },
     "execution_count": 4,
     "metadata": {},
     "output_type": "execute_result"
    }
   ],
   "source": [
    "driver.current_url"
   ]
  },
  {
   "cell_type": "code",
   "execution_count": 5,
   "metadata": {},
   "outputs": [],
   "source": [
    "driver.get(\"https://www.youtube.com/@PW-Foundation/videos\")"
   ]
  },
  {
   "cell_type": "code",
   "execution_count": 7,
   "metadata": {},
   "outputs": [],
   "source": [
    "link_finder = driver.find_elements(By.XPATH,\"//a[@id='thumbnail']\")\n",
    "link_finder[3].click()"
   ]
  },
  {
   "cell_type": "code",
   "execution_count": 8,
   "metadata": {},
   "outputs": [
    {
     "data": {
      "text/plain": [
       "'https://www.youtube.com/watch?v=FSVVlcFUCMk'"
      ]
     },
     "execution_count": 8,
     "metadata": {},
     "output_type": "execute_result"
    }
   ],
   "source": [
    "driver.current_url"
   ]
  },
  {
   "cell_type": "code",
   "execution_count": 9,
   "metadata": {},
   "outputs": [],
   "source": [
    "import time"
   ]
  },
  {
   "cell_type": "code",
   "execution_count": 12,
   "metadata": {},
   "outputs": [],
   "source": [
    "def top5url(url):\n",
    "    video_urls = []\n",
    "    driver = webdriver.Chrome(executable_path=\".\\Assignment 21 - 22 February 2023\\chromedriver.exe\")\n",
    "    for i in range(5):\n",
    "        driver.get(url)\n",
    "        time.sleep(2)\n",
    "        link_finder = driver.find_elements(By.XPATH,\"//a[@id='thumbnail']\")\n",
    "        link_finder[i+1].click()\n",
    "        time.sleep(2)\n",
    "        video_urls.append(driver.current_url)\n",
    "    driver.close()\n",
    "    return video_urls"
   ]
  },
  {
   "cell_type": "code",
   "execution_count": 13,
   "metadata": {},
   "outputs": [
    {
     "name": "stderr",
     "output_type": "stream",
     "text": [
      "C:\\Users\\Utkarsh Gaikwad\\AppData\\Local\\Temp\\ipykernel_23712\\1652550144.py:3: DeprecationWarning: executable_path has been deprecated, please pass in a Service object\n",
      "  driver = webdriver.Chrome(executable_path=\".\\Assignment 21 - 22 February 2023\\chromedriver.exe\")\n"
     ]
    },
    {
     "data": {
      "text/plain": [
       "['https://www.youtube.com/watch?v=AM2Dt7cNebw',\n",
       " 'https://www.youtube.com/watch?v=7nMJVhey9TM',\n",
       " 'https://www.youtube.com/watch?v=FSVVlcFUCMk',\n",
       " 'https://www.youtube.com/watch?v=vKxdTuOirnI',\n",
       " 'https://www.youtube.com/watch?v=hC86u4g6QPk']"
      ]
     },
     "execution_count": 13,
     "metadata": {},
     "output_type": "execute_result"
    }
   ],
   "source": [
    "url = \"https://www.youtube.com/@PW-Foundation/videos\"\n",
    "top5url(url)"
   ]
  },
  {
   "cell_type": "code",
   "execution_count": 14,
   "metadata": {},
   "outputs": [
    {
     "name": "stderr",
     "output_type": "stream",
     "text": [
      "C:\\Users\\Utkarsh Gaikwad\\AppData\\Local\\Temp\\ipykernel_23712\\3308412410.py:2: DeprecationWarning: executable_path has been deprecated, please pass in a Service object\n",
      "  driver = webdriver.Chrome(executable_path=\".\\Assignment 21 - 22 February 2023\\chromedriver.exe\")\n"
     ]
    }
   ],
   "source": [
    "url = \"https://www.youtube.com/@PW-Foundation/videos\"\n",
    "driver = webdriver.Chrome(executable_path=\".\\Assignment 21 - 22 February 2023\\chromedriver.exe\")\n",
    "driver.get(url)"
   ]
  },
  {
   "cell_type": "code",
   "execution_count": 21,
   "metadata": {},
   "outputs": [],
   "source": [
    "images = driver.find_elements(By.TAG_NAME,'img')"
   ]
  },
  {
   "cell_type": "code",
   "execution_count": 25,
   "metadata": {},
   "outputs": [],
   "source": [
    "img_links = []\n",
    "for i in images:    \n",
    "    link = i.get_attribute('src')\n",
    "    if str(link).find('i.ytimg.com')>0:\n",
    "        img_links.append(link)\n"
   ]
  },
  {
   "cell_type": "code",
   "execution_count": 29,
   "metadata": {},
   "outputs": [
    {
     "data": {
      "text/plain": [
       "['https://i.ytimg.com/vi/AM2Dt7cNebw/hqdefault.jpg?sqp=-oaymwEcCNACELwBSFXyq4qpAw4IARUAAIhCGAFwAcABBg==&rs=AOn4CLBJHWHabeJ94dcUDlDDNfvQxnUfJg',\n",
       " 'https://i.ytimg.com/vi/7nMJVhey9TM/hqdefault.jpg?sqp=-oaymwEcCNACELwBSFXyq4qpAw4IARUAAIhCGAFwAcABBg==&rs=AOn4CLDHikOj7gH4eQNudv7c1qNbwcMWyA',\n",
       " 'https://i.ytimg.com/vi/FSVVlcFUCMk/hqdefault.jpg?sqp=-oaymwEcCNACELwBSFXyq4qpAw4IARUAAIhCGAFwAcABBg==&rs=AOn4CLAadJS9mLtZptLHtKHEefPgqk3NCg',\n",
       " 'https://i.ytimg.com/vi/vKxdTuOirnI/hqdefault.jpg?sqp=-oaymwEcCNACELwBSFXyq4qpAw4IARUAAIhCGAFwAcABBg==&rs=AOn4CLBonfyIr0oe5WzFo2o2hoU5Yxbv8w',\n",
       " 'https://i.ytimg.com/vi/hC86u4g6QPk/hqdefault.jpg?sqp=-oaymwEcCNACELwBSFXyq4qpAw4IARUAAIhCGAFwAcABBg==&rs=AOn4CLD5AeHXmdOF3J-FoFIAYtmfh28ciQ',\n",
       " 'https://i.ytimg.com/vi/7O5MY8Y1JCE/hqdefault.jpg?sqp=-oaymwEcCNACELwBSFXyq4qpAw4IARUAAIhCGAFwAcABBg==&rs=AOn4CLBH2cIH3mp1fEKJja5KVXiwRP3p4w']"
      ]
     },
     "execution_count": 29,
     "metadata": {},
     "output_type": "execute_result"
    }
   ],
   "source": [
    "img_links"
   ]
  },
  {
   "cell_type": "code",
   "execution_count": 34,
   "metadata": {},
   "outputs": [
    {
     "name": "stderr",
     "output_type": "stream",
     "text": [
      "C:\\Users\\Utkarsh Gaikwad\\AppData\\Local\\Temp\\ipykernel_23712\\2037477977.py:2: DeprecationWarning: executable_path has been deprecated, please pass in a Service object\n",
      "  driver = webdriver.Chrome(executable_path=\".\\Assignment 21 - 22 February 2023\\chromedriver.exe\")\n"
     ]
    }
   ],
   "source": [
    "url = \"https://www.youtube.com/@PW-Foundation/videos\"\n",
    "driver = webdriver.Chrome(executable_path=\".\\Assignment 21 - 22 February 2023\\chromedriver.exe\")\n",
    "driver.get(url)\n",
    "time.sleep(4)\n",
    "titles = driver.find_elements(By.XPATH,\"//yt-formatted-string[@id='video-title']\")"
   ]
  },
  {
   "cell_type": "code",
   "execution_count": 36,
   "metadata": {},
   "outputs": [
    {
     "name": "stdout",
     "output_type": "stream",
     "text": [
      "Best technique to attempt SST paper in Board exam || Class 10th\n",
      "Last Minute Strategy To Score More Than 98% || ICSE Boards || Class-10th\n",
      "Why You Should Choose Commerce After 10th? || Complete Information💯\n",
      "Follow This Plan To Score More Than 95% in Boards || Topper's Strategy\n",
      "Everything About COMMERCE Stream !! Which Stream to Choose After Class 10th?\n",
      "How to Attempt Maths Board Exam || Last Minute Strategy || Class-10th Boards\n",
      "STATISTICS - MOST Important Questions || Class-10th\n",
      "SURFACE AREA & VOLUMES - MOST Important Questions || Class-10th\n",
      "DOUBLE THEME - LONG QUESTIONS - Most Important Questions || Class-10th\n",
      "REPORTED SPEECH in 30 Minutes || Mind Map Series for Class 10th\n",
      "CIRCLES - MOST Important Questions || Class-10th\n",
      "THE BEGGAR in One Shot - From Zero to Hero || Class 9th\n",
      "FOG, FOR ANNE GREGORY || Hindi Summary in 30 Minutes || Class 10th\n",
      "REPORTED SPEECH in One Shot - From Zero to Hero || Class 9th\n",
      "How to Write Effective Answers in Exams?! || Strategy Wallah || PW Foundation\n",
      "REPORTED SPEECH - MOST Important Questions || Class-10th\n",
      "POPULATION in One Shot - From Zero to Hero || Class 9th\n",
      "FOR ANNE GREGORY - MOST Important Questions || Class-10th\n",
      "IF I WERE YOU + A HOUSE IS NOT A HOME in One Shot - From Zero to Hero || Class 9th\n",
      "NATURAL VEGETATION in One Shot - From Zero to Hero || Class 9th\n",
      "THE BOOK THAT SAVED EARTH || Hindi Summary in 30 Minutes || Class 10th\n",
      "DEMOCRATIC RIGHTS in One Shot - From Zero to Hero || Class 9th\n",
      "FOG - MOST Important Questions || Class-10th\n",
      "A SLUMBER DID MY SPIRIT SEAL in One Shot - From Zero to Hero || Class 9th\n",
      "PASTORALISTS IN THE MODERN WORLD in One Shot - From Zero to Hero || Class 9th\n",
      "THE BOOK THAT SAVED EARTH - Most Important Questions || Class-10th\n",
      "THE PROPOSAL || Hindi Summary in 30 Minutes || Class 10th\n",
      "KATHMANDU + THE LAST LEAF in One Shot - From Zero to Hero || Class 9th\n",
      "THE PROPOSAL - MOST Important Questions || Class-10th\n",
      "Biggest Revolution In Education 🔥🔥 #PWShikshaKiKranti\n",
      "\n",
      "\n"
     ]
    }
   ],
   "source": [
    "for i in titles:\n",
    "    print(i.text)"
   ]
  },
  {
   "cell_type": "code",
   "execution_count": 42,
   "metadata": {},
   "outputs": [
    {
     "name": "stderr",
     "output_type": "stream",
     "text": [
      "C:\\Users\\Utkarsh Gaikwad\\AppData\\Local\\Temp\\ipykernel_23712\\1540970172.py:2: DeprecationWarning: executable_path has been deprecated, please pass in a Service object\n",
      "  driver = webdriver.Chrome(executable_path=\".\\Assignment 21 - 22 February 2023\\chromedriver.exe\")\n"
     ]
    }
   ],
   "source": [
    "url = \"https://www.youtube.com/@PW-Foundation/videos\"\n",
    "driver = webdriver.Chrome(executable_path=\".\\Assignment 21 - 22 February 2023\\chromedriver.exe\")\n",
    "driver.get(url)\n",
    "time.sleep(4)\n",
    "views = driver.find_elements(By.XPATH,\"//span[@class='inline-metadata-item style-scope ytd-video-meta-block']\")"
   ]
  },
  {
   "cell_type": "code",
   "execution_count": 45,
   "metadata": {},
   "outputs": [
    {
     "name": "stdout",
     "output_type": "stream",
     "text": [
      "37K views\n",
      "19K views\n",
      "26K views\n",
      "302K views\n",
      "25K views\n",
      "332K views\n",
      "46K views\n",
      "53K views\n",
      "50K views\n",
      "37K views\n",
      "48K views\n",
      "29K views\n",
      "28K views\n",
      "40K views\n",
      "126K views\n",
      "38K views\n",
      "34K views\n",
      "12K views\n",
      "34K views\n",
      "24K views\n",
      "50K views\n",
      "41K views\n",
      "11K views\n",
      "18K views\n",
      "72K views\n",
      "21K views\n",
      "38K views\n",
      "32K views\n",
      "19K views\n",
      "52K views\n"
     ]
    }
   ],
   "source": [
    "for i in views:\n",
    "    text_string = str(i.text)\n",
    "    if text_string.find(\"views\")>0:\n",
    "        print(i.text)"
   ]
  },
  {
   "cell_type": "code",
   "execution_count": 46,
   "metadata": {},
   "outputs": [
    {
     "name": "stderr",
     "output_type": "stream",
     "text": [
      "C:\\Users\\Utkarsh Gaikwad\\AppData\\Local\\Temp\\ipykernel_23712\\1652550144.py:3: DeprecationWarning: executable_path has been deprecated, please pass in a Service object\n",
      "  driver = webdriver.Chrome(executable_path=\".\\Assignment 21 - 22 February 2023\\chromedriver.exe\")\n"
     ]
    }
   ],
   "source": [
    "urls = top5url(url)"
   ]
  },
  {
   "cell_type": "code",
   "execution_count": 47,
   "metadata": {},
   "outputs": [
    {
     "data": {
      "text/plain": [
       "'https://www.youtube.com/watch?v=AM2Dt7cNebw'"
      ]
     },
     "execution_count": 47,
     "metadata": {},
     "output_type": "execute_result"
    }
   ],
   "source": [
    "urls[0]"
   ]
  },
  {
   "cell_type": "code",
   "execution_count": 49,
   "metadata": {},
   "outputs": [
    {
     "name": "stderr",
     "output_type": "stream",
     "text": [
      "C:\\Users\\Utkarsh Gaikwad\\AppData\\Local\\Temp\\ipykernel_23712\\3156090549.py:1: DeprecationWarning: executable_path has been deprecated, please pass in a Service object\n",
      "  driver = webdriver.Chrome(executable_path=\".\\Assignment 21 - 22 February 2023\\chromedriver.exe\")\n"
     ]
    }
   ],
   "source": [
    "driver = webdriver.Chrome(executable_path=\".\\Assignment 21 - 22 February 2023\\chromedriver.exe\")\n",
    "driver.get(urls[0])\n",
    "driver.maximize_window()\n",
    "time.sleep(4)"
   ]
  },
  {
   "cell_type": "code",
   "execution_count": 50,
   "metadata": {},
   "outputs": [],
   "source": [
    "driver.execute_script(\"window.scrollTo(0, 200)\")"
   ]
  },
  {
   "cell_type": "code",
   "execution_count": 53,
   "metadata": {},
   "outputs": [],
   "source": [
    "show_more = driver.find_element(By.XPATH,\"//tp-yt-paper-button[@id='expand']\")"
   ]
  },
  {
   "cell_type": "code",
   "execution_count": 54,
   "metadata": {},
   "outputs": [],
   "source": [
    "show_more.click()"
   ]
  },
  {
   "cell_type": "code",
   "execution_count": 55,
   "metadata": {},
   "outputs": [],
   "source": [
    "views_and_date = driver.find_elements(By.XPATH,\"//span[@class='style-scope yt-formatted-string bold']\")"
   ]
  },
  {
   "cell_type": "code",
   "execution_count": 61,
   "metadata": {},
   "outputs": [
    {
     "name": "stdout",
     "output_type": "stream",
     "text": [
      "views :41K views\n",
      "date : Streamed 9 hours ago\n"
     ]
    }
   ],
   "source": [
    "for i in views_and_date:\n",
    "    text_str = i.text\n",
    "    if text_str and text_str.strip():\n",
    "        if text_str.find('views')>0:\n",
    "            print(f\"views :{text_str}\")\n",
    "        else:\n",
    "            print(f\"date : {text_str}\")"
   ]
  },
  {
   "cell_type": "code",
   "execution_count": 1,
   "metadata": {},
   "outputs": [],
   "source": [
    "import requests\n",
    "from bs4 import BeautifulSoup\n",
    "from urllib.request import urlopen\n",
    "import logging"
   ]
  },
  {
   "cell_type": "code",
   "execution_count": 2,
   "metadata": {},
   "outputs": [],
   "source": [
    "headers = {\"User-Agent\": \"Mozilla/5.0 (Windows NT 10.0; Win64; x64) AppleWebKit/537.36 (KHTML, like Gecko) Chrome/58.0.3029.110 Safari/537.36\"}"
   ]
  },
  {
   "cell_type": "code",
   "execution_count": 22,
   "metadata": {},
   "outputs": [
    {
     "data": {
      "text/plain": [
       "<Response [200]>"
      ]
     },
     "execution_count": 22,
     "metadata": {},
     "output_type": "execute_result"
    }
   ],
   "source": [
    "url = \"https://www.youtube.com/@PW-Foundation/videos\"\n",
    "response = requests.get(url,headers=headers)\n",
    "response"
   ]
  },
  {
   "cell_type": "code",
   "execution_count": 23,
   "metadata": {},
   "outputs": [],
   "source": [
    "soup = BeautifulSoup(response.content,'html.parser')"
   ]
  },
  {
   "cell_type": "code",
   "execution_count": 10,
   "metadata": {},
   "outputs": [],
   "source": [
    "script_soup = soup.find_all('script',{\"nonce\":\"9aWJ6K5v-J7WTmhFV9QmfA\"})"
   ]
  },
  {
   "cell_type": "code",
   "execution_count": 11,
   "metadata": {},
   "outputs": [
    {
     "name": "stdout",
     "output_type": "stream",
     "text": [
      "34\n",
      "36\n"
     ]
    }
   ],
   "source": [
    "counter = 0\n",
    "for i in script_soup:\n",
    "    script_text = i.text\n",
    "    if script_text.find(\"webCommandMetadata\")>=0:\n",
    "        print(counter)\n",
    "    counter=counter+1"
   ]
  },
  {
   "cell_type": "code",
   "execution_count": 23,
   "metadata": {},
   "outputs": [],
   "source": [
    "from selenium import webdriver\n",
    "from selenium.webdriver.common.by import By\n",
    "from webdriver_manager.chrome import ChromeDriverManager\n",
    "from selenium.webdriver.chrome.service import Service \n",
    "import time\n",
    "import pandas as pd\n",
    "import os\n",
    "\n",
    "user_agent = \"Mozilla/5.0 (Windows NT 10.0; Win64; x64) AppleWebKit/537.36 (KHTML, like Gecko) Chrome/85.0.4183.83 Safari/537.36\"\n",
    "\n",
    "options = webdriver.ChromeOptions()\n",
    "options.add_argument('--headless')\n",
    "options.add_argument(f'user-agent={user_agent}')\n",
    "options.add_argument(\"--window-size=1920,1080\")\n",
    "options.add_argument('--ignore-certificate-errors')\n",
    "options.add_argument('--allow-running-insecure-content')\n",
    "options.add_argument(\"--disable-extensions\")\n",
    "options.add_argument(\"--proxy-server='direct://'\")\n",
    "options.add_argument(\"--proxy-bypass-list=*\")\n",
    "options.add_argument(\"--start-maximized\")\n",
    "options.add_argument('--disable-gpu')\n",
    "options.add_argument('--disable-dev-shm-usage')\n",
    "options.add_argument('--no-sandbox')\n",
    "s = Service(executable_path='./Assignment 21 - 22 February 2023/chromedriver.exe')\n",
    "driver = webdriver.Chrome(service=s, options=options)\n",
    "\n",
    "def get_channel_title(url):\n",
    "    \n",
    "\n",
    "    driver.get(url)\n",
    "    #driver.maximize_window()\n",
    "    #driver.get_screenshot_as_file('screenshot.png')\n",
    "    #time.sleep(2)   \n",
    "\n",
    "    return driver.title"
   ]
  },
  {
   "cell_type": "code",
   "execution_count": 24,
   "metadata": {},
   "outputs": [
    {
     "data": {
      "text/plain": [
       "'Physics Wallah Foundation - YouTube'"
      ]
     },
     "execution_count": 24,
     "metadata": {},
     "output_type": "execute_result"
    }
   ],
   "source": [
    "url = \"https://www.youtube.com/@PW-Foundation/videos\"\n",
    "get_channel_title(url)"
   ]
  },
  {
   "cell_type": "code",
   "execution_count": 45,
   "metadata": {},
   "outputs": [],
   "source": [
    "def get_top5_urls(url):\n",
    "    driver.get(url)\n",
    "    driver.execute_script(\"window.scrollTo(0, 200)\")\n",
    "    url_elems = driver.find_elements(By.XPATH,\"//a[@id='video-title-link']\")    \n",
    "    url_elms5 = url_elems[0:5]\n",
    "    top5url = []\n",
    "    for i in url_elms5:\n",
    "        top5url.append(i.get_attribute('href'))   \n",
    "\n",
    "    return top5url   \n",
    "    "
   ]
  },
  {
   "cell_type": "code",
   "execution_count": 46,
   "metadata": {},
   "outputs": [
    {
     "data": {
      "text/plain": [
       "['https://www.youtube.com/watch?v=nX5ONgCdLcc',\n",
       " 'https://www.youtube.com/watch?v=AM2Dt7cNebw',\n",
       " 'https://www.youtube.com/watch?v=7nMJVhey9TM',\n",
       " 'https://www.youtube.com/watch?v=FSVVlcFUCMk',\n",
       " 'https://www.youtube.com/watch?v=vKxdTuOirnI']"
      ]
     },
     "execution_count": 46,
     "metadata": {},
     "output_type": "execute_result"
    }
   ],
   "source": [
    "get_top5_urls(url)"
   ]
  },
  {
   "cell_type": "code",
   "execution_count": null,
   "metadata": {},
   "outputs": [],
   "source": []
  }
 ],
 "metadata": {
  "kernelspec": {
   "display_name": "venv",
   "language": "python",
   "name": "python3"
  },
  "language_info": {
   "codemirror_mode": {
    "name": "ipython",
    "version": 3
   },
   "file_extension": ".py",
   "mimetype": "text/x-python",
   "name": "python",
   "nbconvert_exporter": "python",
   "pygments_lexer": "ipython3",
   "version": "3.10.7"
  },
  "orig_nbformat": 4,
  "vscode": {
   "interpreter": {
    "hash": "27149e82490bdaa27222c4e29544e396278d224a9f42010d392c3451ce079b12"
   }
  }
 },
 "nbformat": 4,
 "nbformat_minor": 2
}
