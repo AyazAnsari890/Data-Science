{
 "cells": [
  {
   "cell_type": "code",
   "execution_count": 1,
   "metadata": {},
   "outputs": [
    {
     "name": "stdout",
     "output_type": "stream",
     "text": [
      "Requirement already satisfied: pyspark in /usr/local/lib/python3.8/dist-packages (3.2.1)\n",
      "Requirement already satisfied: py4j==0.10.9.3 in /usr/local/lib/python3.8/dist-packages (from pyspark) (0.10.9.3)\n"
     ]
    }
   ],
   "source": [
    "!pip install pyspark"
   ]
  },
  {
   "cell_type": "code",
   "execution_count": 2,
   "metadata": {},
   "outputs": [],
   "source": [
    "from pyspark.sql import SparkSession"
   ]
  },
  {
   "cell_type": "code",
   "execution_count": 3,
   "metadata": {},
   "outputs": [
    {
     "name": "stderr",
     "output_type": "stream",
     "text": [
      "Setting default log level to \"WARN\".\n",
      "To adjust logging level use sc.setLogLevel(newLevel). For SparkR, use setLogLevel(newLevel).\n",
      "23/11/30 18:40:57 WARN NativeCodeLoader: Unable to load native-hadoop library for your platform... using builtin-java classes where applicable\n",
      "23/11/30 18:40:58 WARN Utils: Service 'SparkUI' could not bind on port 4040. Attempting port 4041.\n"
     ]
    }
   ],
   "source": [
    "spark = SparkSession.builder.appName('cardata').getOrCreate()"
   ]
  },
  {
   "cell_type": "code",
   "execution_count": 4,
   "metadata": {},
   "outputs": [
    {
     "data": {
      "text/html": [
       "\n",
       "            <div>\n",
       "                <p><b>SparkSession - in-memory</b></p>\n",
       "                \n",
       "        <div>\n",
       "            <p><b>SparkContext</b></p>\n",
       "\n",
       "            <p><a href=\"http://e859ea0c928b:4041\">Spark UI</a></p>\n",
       "\n",
       "            <dl>\n",
       "              <dt>Version</dt>\n",
       "                <dd><code>v3.2.1</code></dd>\n",
       "              <dt>Master</dt>\n",
       "                <dd><code>local[*]</code></dd>\n",
       "              <dt>AppName</dt>\n",
       "                <dd><code>cardata</code></dd>\n",
       "            </dl>\n",
       "        </div>\n",
       "        \n",
       "            </div>\n",
       "        "
      ],
      "text/plain": [
       "<pyspark.sql.session.SparkSession at 0x7ff5d01e3040>"
      ]
     },
     "execution_count": 4,
     "metadata": {},
     "output_type": "execute_result"
    }
   ],
   "source": [
    "spark"
   ]
  },
  {
   "cell_type": "code",
   "execution_count": 6,
   "metadata": {},
   "outputs": [
    {
     "name": "stderr",
     "output_type": "stream",
     "text": [
      "                                                                                \r"
     ]
    }
   ],
   "source": [
    "df_pyspark=spark.read.csv('cardekho_dataset.csv', inferSchema=True)"
   ]
  },
  {
   "cell_type": "code",
   "execution_count": 7,
   "metadata": {},
   "outputs": [
    {
     "name": "stdout",
     "output_type": "stream",
     "text": [
      "root\n",
      " |-- _c0: integer (nullable = true)\n",
      " |-- _c1: string (nullable = true)\n",
      " |-- _c2: string (nullable = true)\n",
      " |-- _c3: string (nullable = true)\n",
      " |-- _c4: string (nullable = true)\n",
      " |-- _c5: string (nullable = true)\n",
      " |-- _c6: string (nullable = true)\n",
      " |-- _c7: string (nullable = true)\n",
      " |-- _c8: string (nullable = true)\n",
      " |-- _c9: string (nullable = true)\n",
      " |-- _c10: string (nullable = true)\n",
      " |-- _c11: string (nullable = true)\n",
      " |-- _c12: string (nullable = true)\n",
      " |-- _c13: string (nullable = true)\n",
      "\n"
     ]
    }
   ],
   "source": [
    "df_pyspark.printSchema()"
   ]
  },
  {
   "cell_type": "code",
   "execution_count": 9,
   "metadata": {},
   "outputs": [],
   "source": [
    "df_pyspark=spark.read.csv('cardekho_dataset.csv', header=True, inferSchema=True)"
   ]
  },
  {
   "cell_type": "code",
   "execution_count": 10,
   "metadata": {},
   "outputs": [
    {
     "name": "stdout",
     "output_type": "stream",
     "text": [
      "root\n",
      " |-- _c0: integer (nullable = true)\n",
      " |-- car_name: string (nullable = true)\n",
      " |-- brand: string (nullable = true)\n",
      " |-- model: string (nullable = true)\n",
      " |-- vehicle_age: integer (nullable = true)\n",
      " |-- km_driven: integer (nullable = true)\n",
      " |-- seller_type: string (nullable = true)\n",
      " |-- fuel_type: string (nullable = true)\n",
      " |-- transmission_type: string (nullable = true)\n",
      " |-- mileage: double (nullable = true)\n",
      " |-- engine: integer (nullable = true)\n",
      " |-- max_power: double (nullable = true)\n",
      " |-- seats: integer (nullable = true)\n",
      " |-- selling_price: integer (nullable = true)\n",
      "\n"
     ]
    }
   ],
   "source": [
    "df_pyspark.printSchema()"
   ]
  },
  {
   "cell_type": "code",
   "execution_count": 11,
   "metadata": {},
   "outputs": [
    {
     "name": "stdout",
     "output_type": "stream",
     "text": [
      "+---+--------------------+-------------+-----------+-----------+---------+-----------+---------+-----------------+-------+------+---------+-----+-------------+\n",
      "|_c0|            car_name|        brand|      model|vehicle_age|km_driven|seller_type|fuel_type|transmission_type|mileage|engine|max_power|seats|selling_price|\n",
      "+---+--------------------+-------------+-----------+-----------+---------+-----------+---------+-----------------+-------+------+---------+-----+-------------+\n",
      "|  0|         Maruti Alto|       Maruti|       Alto|          9|   120000| Individual|   Petrol|           Manual|   19.7|   796|     46.3|    5|       120000|\n",
      "|  1|       Hyundai Grand|      Hyundai|      Grand|          5|    20000| Individual|   Petrol|           Manual|   18.9|  1197|     82.0|    5|       550000|\n",
      "|  2|         Hyundai i20|      Hyundai|        i20|         11|    60000| Individual|   Petrol|           Manual|   17.0|  1197|     80.0|    5|       215000|\n",
      "|  3|         Maruti Alto|       Maruti|       Alto|          9|    37000| Individual|   Petrol|           Manual|  20.92|   998|     67.1|    5|       226000|\n",
      "|  4|       Ford Ecosport|         Ford|   Ecosport|          6|    30000|     Dealer|   Diesel|           Manual|  22.77|  1498|    98.59|    5|       570000|\n",
      "|  5|      Maruti Wagon R|       Maruti|    Wagon R|          8|    35000| Individual|   Petrol|           Manual|   18.9|   998|     67.1|    5|       350000|\n",
      "|  6|         Hyundai i10|      Hyundai|        i10|          8|    40000|     Dealer|   Petrol|           Manual|  20.36|  1197|     78.9|    5|       315000|\n",
      "|  7|      Maruti Wagon R|       Maruti|    Wagon R|          3|    17512|     Dealer|   Petrol|           Manual|  20.51|   998|    67.04|    5|       410000|\n",
      "|  8|       Hyundai Venue|      Hyundai|      Venue|          2|    20000| Individual|   Petrol|        Automatic|  18.15|   998|   118.35|    5|      1050000|\n",
      "| 12|        Maruti Swift|       Maruti|      Swift|          4|    28321|     Dealer|   Petrol|           Manual|   16.6|  1197|     85.0|    5|       511000|\n",
      "| 14|       Hyundai Verna|      Hyundai|      Verna|          8|    65278|     Dealer|   Diesel|           Manual|  22.32|  1582|   126.32|    5|       425000|\n",
      "| 15|      Renault Duster|      Renault|     Duster|          5|    50000| Individual|   Diesel|           Manual|  19.64|  1461|   108.45|    5|       750000|\n",
      "| 16|         Mini Cooper|         Mini|     Cooper|          4|     6000|     Dealer|   Petrol|        Automatic|  14.41|  1998|   189.08|    5|      3250000|\n",
      "| 17|         Maruti Ciaz|       Maruti|       Ciaz|          5|    76000|     Dealer|   Diesel|           Manual|  28.09|  1248|     88.5|    5|       650000|\n",
      "| 18|        Maruti Swift|       Maruti|      Swift|          5|    20000| Individual|   Diesel|           Manual|   25.2|  1248|     74.0|    5|       627000|\n",
      "| 19|Mercedes-Benz C-C...|Mercedes-Benz|    C-Class|          7|    65000|     Dealer|   Diesel|        Automatic|  19.27|  2143|    170.0|    5|      1425000|\n",
      "| 20|        Maruti Swift|       Maruti|      Swift|          7|    62200|     Dealer|   Diesel|           Manual|   28.4|  1248|     74.0|    5|       425000|\n",
      "| 21|       Toyota Innova|       Toyota|     Innova|          8|   110000| Individual|   Diesel|           Manual|  12.99|  2494|    100.6|    8|       605000|\n",
      "| 22|       Maruti Baleno|       Maruti|     Baleno|          6|    20000| Individual|   Petrol|           Manual|   21.4|  1197|     83.1|    5|       600000|\n",
      "| 23|  Maruti Swift Dzire|       Maruti|Swift Dzire|          5|    40000| Individual|   Petrol|           Manual|  20.85|  1197|    83.14|    5|       575000|\n",
      "+---+--------------------+-------------+-----------+-----------+---------+-----------+---------+-----------------+-------+------+---------+-----+-------------+\n",
      "only showing top 20 rows\n",
      "\n"
     ]
    },
    {
     "name": "stderr",
     "output_type": "stream",
     "text": [
      "23/11/30 18:48:46 WARN CSVHeaderChecker: CSV header does not conform to the schema.\n",
      " Header: , car_name, brand, model, vehicle_age, km_driven, seller_type, fuel_type, transmission_type, mileage, engine, max_power, seats, selling_price\n",
      " Schema: _c0, car_name, brand, model, vehicle_age, km_driven, seller_type, fuel_type, transmission_type, mileage, engine, max_power, seats, selling_price\n",
      "Expected: _c0 but found: \n",
      "CSV file: file:///config/workspace/cardekho_dataset.csv\n"
     ]
    }
   ],
   "source": [
    "df_pyspark.show()"
   ]
  },
  {
   "cell_type": "code",
   "execution_count": 12,
   "metadata": {},
   "outputs": [
    {
     "data": {
      "text/plain": [
       "pyspark.sql.dataframe.DataFrame"
      ]
     },
     "execution_count": 12,
     "metadata": {},
     "output_type": "execute_result"
    }
   ],
   "source": [
    "type(df_pyspark)"
   ]
  },
  {
   "cell_type": "code",
   "execution_count": 13,
   "metadata": {},
   "outputs": [
    {
     "name": "stdout",
     "output_type": "stream",
     "text": [
      "+--------------------+-------------+\n",
      "|            car_name|        brand|\n",
      "+--------------------+-------------+\n",
      "|         Maruti Alto|       Maruti|\n",
      "|       Hyundai Grand|      Hyundai|\n",
      "|         Hyundai i20|      Hyundai|\n",
      "|         Maruti Alto|       Maruti|\n",
      "|       Ford Ecosport|         Ford|\n",
      "|      Maruti Wagon R|       Maruti|\n",
      "|         Hyundai i10|      Hyundai|\n",
      "|      Maruti Wagon R|       Maruti|\n",
      "|       Hyundai Venue|      Hyundai|\n",
      "|        Maruti Swift|       Maruti|\n",
      "|       Hyundai Verna|      Hyundai|\n",
      "|      Renault Duster|      Renault|\n",
      "|         Mini Cooper|         Mini|\n",
      "|         Maruti Ciaz|       Maruti|\n",
      "|        Maruti Swift|       Maruti|\n",
      "|Mercedes-Benz C-C...|Mercedes-Benz|\n",
      "|        Maruti Swift|       Maruti|\n",
      "|       Toyota Innova|       Toyota|\n",
      "|       Maruti Baleno|       Maruti|\n",
      "|  Maruti Swift Dzire|       Maruti|\n",
      "+--------------------+-------------+\n",
      "only showing top 20 rows\n",
      "\n"
     ]
    }
   ],
   "source": [
    "df_pyspark.select(['car_name', 'brand']).show()"
   ]
  },
  {
   "cell_type": "code",
   "execution_count": 14,
   "metadata": {},
   "outputs": [
    {
     "data": {
      "text/plain": [
       "[('_c0', 'int'),\n",
       " ('car_name', 'string'),\n",
       " ('brand', 'string'),\n",
       " ('model', 'string'),\n",
       " ('vehicle_age', 'int'),\n",
       " ('km_driven', 'int'),\n",
       " ('seller_type', 'string'),\n",
       " ('fuel_type', 'string'),\n",
       " ('transmission_type', 'string'),\n",
       " ('mileage', 'double'),\n",
       " ('engine', 'int'),\n",
       " ('max_power', 'double'),\n",
       " ('seats', 'int'),\n",
       " ('selling_price', 'int')]"
      ]
     },
     "execution_count": 14,
     "metadata": {},
     "output_type": "execute_result"
    }
   ],
   "source": [
    "df_pyspark.dtypes"
   ]
  },
  {
   "cell_type": "code",
   "execution_count": 15,
   "metadata": {},
   "outputs": [
    {
     "name": "stderr",
     "output_type": "stream",
     "text": [
      "23/11/30 18:51:11 WARN CSVHeaderChecker: CSV header does not conform to the schema.\n",
      " Header: , car_name, brand, model, vehicle_age, km_driven, seller_type, fuel_type, transmission_type, mileage, engine, max_power, seats, selling_price\n",
      " Schema: _c0, car_name, brand, model, vehicle_age, km_driven, seller_type, fuel_type, transmission_type, mileage, engine, max_power, seats, selling_price\n",
      "Expected: _c0 but found: \n",
      "CSV file: file:///config/workspace/cardekho_dataset.csv\n",
      "[Stage 6:>                                                          (0 + 1) / 1]\r"
     ]
    },
    {
     "name": "stdout",
     "output_type": "stream",
     "text": [
      "+-------+-----------------+----------+-----+------------------+------------------+-----------------+----------------+---------+-----------------+------------------+------------------+-----------------+-----------------+-----------------+\n",
      "|summary|              _c0|  car_name|brand|             model|       vehicle_age|        km_driven|     seller_type|fuel_type|transmission_type|           mileage|            engine|        max_power|            seats|    selling_price|\n",
      "+-------+-----------------+----------+-----+------------------+------------------+-----------------+----------------+---------+-----------------+------------------+------------------+-----------------+-----------------+-----------------+\n",
      "|  count|            15411|     15411|15411|             15411|             15411|            15411|           15411|    15411|            15411|             15411|             15411|            15411|            15411|            15411|\n",
      "|   mean|9811.857699046135|      null| null|4.3476923076923075|6.0363376808772955|55616.48063071832|            null|     null|             null|19.701151125819095|1486.0577509571085|100.5882538446622|5.325481798715203|774971.1164103562|\n",
      "| stddev|5643.418541882794|      null| null|1.4007391889297625| 3.013291461417931|51618.54842178997|            null|     null|             null| 4.171264603904163| 521.1066956281886|42.97297907656083|0.807628428967241|894128.3632627012|\n",
      "|    min|                0|   Audi A4| Audi|                 3|                 0|              100|          Dealer|      CNG|        Automatic|               4.0|               793|             38.4|                0|            40000|\n",
      "|    max|            19543|Volvo XC90|Volvo|           redi-GO|                29|          3800000|Trustmark Dealer|   Petrol|           Manual|             33.54|              6592|            626.0|                9|         39500000|\n",
      "+-------+-----------------+----------+-----+------------------+------------------+-----------------+----------------+---------+-----------------+------------------+------------------+-----------------+-----------------+-----------------+\n",
      "\n"
     ]
    },
    {
     "name": "stderr",
     "output_type": "stream",
     "text": [
      "                                                                                \r"
     ]
    }
   ],
   "source": [
    "df_pyspark.describe().show()"
   ]
  },
  {
   "cell_type": "code",
   "execution_count": null,
   "metadata": {},
   "outputs": [],
   "source": []
  }
 ],
 "metadata": {
  "kernelspec": {
   "display_name": "Python 3.8.10 64-bit",
   "language": "python",
   "name": "python3"
  },
  "language_info": {
   "codemirror_mode": {
    "name": "ipython",
    "version": 3
   },
   "file_extension": ".py",
   "mimetype": "text/x-python",
   "name": "python",
   "nbconvert_exporter": "python",
   "pygments_lexer": "ipython3",
   "version": "3.8.10"
  },
  "orig_nbformat": 4,
  "vscode": {
   "interpreter": {
    "hash": "e7370f93d1d0cde622a1f8e1c04877d8463912d04d973331ad4851f04de6915a"
   }
  }
 },
 "nbformat": 4,
 "nbformat_minor": 2
}
